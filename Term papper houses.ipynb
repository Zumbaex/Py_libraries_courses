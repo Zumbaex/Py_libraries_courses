{
 "cells": [
  {
   "cell_type": "markdown",
   "id": "5e64ac72",
   "metadata": {},
   "source": [
    "### Импорт библиотек и данных"
   ]
  },
  {
   "cell_type": "code",
   "execution_count": 188,
   "id": "7fda0738",
   "metadata": {},
   "outputs": [],
   "source": [
    "import numpy as np\n",
    "import pandas as pd\n",
    "import matplotlib.pyplot as plt\n",
    "import seaborn as sns\n",
    "from scipy import stats\n",
    "\n",
    "from sklearn.model_selection import train_test_split, cross_val_score\n",
    "from sklearn.preprocessing import StandardScaler, RobustScaler\n",
    "from sklearn.ensemble import RandomForestRegressor\n",
    "from sklearn.metrics import r2_score as r2\n",
    "from sklearn.model_selection import KFold, GridSearchCV\n",
    "\n",
    "import warnings\n",
    "warnings.filterwarnings('ignore')\n",
    "%matplotlib inline"
   ]
  },
  {
   "cell_type": "code",
   "execution_count": 34,
   "id": "9b79b992",
   "metadata": {},
   "outputs": [],
   "source": [
    "DATASET_PATH = 'train.csv'\n",
    "tr_df = pd.read_csv(DATASET_PATH, sep = ',')"
   ]
  },
  {
   "cell_type": "markdown",
   "id": "627d1f33",
   "metadata": {},
   "source": [
    "### Оптимизация (отключил, потому что выдает ошибку после обращения к колонкам \"Cannot setitem on a Categorical with a new category, set the categories first\")"
   ]
  },
  {
   "cell_type": "markdown",
   "id": "5cf4bcb8",
   "metadata": {},
   "source": [
    "### Общая информация"
   ]
  },
  {
   "cell_type": "code",
   "execution_count": 3,
   "id": "8154c952",
   "metadata": {
    "scrolled": false
   },
   "outputs": [
    {
     "data": {
      "text/html": [
       "<div>\n",
       "<style scoped>\n",
       "    .dataframe tbody tr th:only-of-type {\n",
       "        vertical-align: middle;\n",
       "    }\n",
       "\n",
       "    .dataframe tbody tr th {\n",
       "        vertical-align: top;\n",
       "    }\n",
       "\n",
       "    .dataframe thead th {\n",
       "        text-align: right;\n",
       "    }\n",
       "</style>\n",
       "<table border=\"1\" class=\"dataframe\">\n",
       "  <thead>\n",
       "    <tr style=\"text-align: right;\">\n",
       "      <th></th>\n",
       "      <th>Id</th>\n",
       "      <th>DistrictId</th>\n",
       "      <th>Rooms</th>\n",
       "      <th>Square</th>\n",
       "      <th>LifeSquare</th>\n",
       "      <th>KitchenSquare</th>\n",
       "      <th>Floor</th>\n",
       "      <th>HouseFloor</th>\n",
       "      <th>HouseYear</th>\n",
       "      <th>Ecology_1</th>\n",
       "      <th>Ecology_2</th>\n",
       "      <th>Ecology_3</th>\n",
       "      <th>Social_1</th>\n",
       "      <th>Social_2</th>\n",
       "      <th>Social_3</th>\n",
       "      <th>Healthcare_1</th>\n",
       "      <th>Helthcare_2</th>\n",
       "      <th>Shops_1</th>\n",
       "      <th>Shops_2</th>\n",
       "      <th>Price</th>\n",
       "    </tr>\n",
       "  </thead>\n",
       "  <tbody>\n",
       "    <tr>\n",
       "      <th>0</th>\n",
       "      <td>11809</td>\n",
       "      <td>27</td>\n",
       "      <td>3.0</td>\n",
       "      <td>115.027311</td>\n",
       "      <td>NaN</td>\n",
       "      <td>10.0</td>\n",
       "      <td>4</td>\n",
       "      <td>10.0</td>\n",
       "      <td>2014</td>\n",
       "      <td>0.075424</td>\n",
       "      <td>B</td>\n",
       "      <td>B</td>\n",
       "      <td>11</td>\n",
       "      <td>3097</td>\n",
       "      <td>0</td>\n",
       "      <td>NaN</td>\n",
       "      <td>0</td>\n",
       "      <td>0</td>\n",
       "      <td>B</td>\n",
       "      <td>305018.871089</td>\n",
       "    </tr>\n",
       "    <tr>\n",
       "      <th>1</th>\n",
       "      <td>3013</td>\n",
       "      <td>22</td>\n",
       "      <td>1.0</td>\n",
       "      <td>39.832524</td>\n",
       "      <td>23.169223</td>\n",
       "      <td>8.0</td>\n",
       "      <td>7</td>\n",
       "      <td>8.0</td>\n",
       "      <td>1966</td>\n",
       "      <td>0.118537</td>\n",
       "      <td>B</td>\n",
       "      <td>B</td>\n",
       "      <td>30</td>\n",
       "      <td>6207</td>\n",
       "      <td>1</td>\n",
       "      <td>1183.0</td>\n",
       "      <td>1</td>\n",
       "      <td>0</td>\n",
       "      <td>B</td>\n",
       "      <td>177734.553407</td>\n",
       "    </tr>\n",
       "    <tr>\n",
       "      <th>2</th>\n",
       "      <td>8215</td>\n",
       "      <td>1</td>\n",
       "      <td>3.0</td>\n",
       "      <td>78.342215</td>\n",
       "      <td>47.671972</td>\n",
       "      <td>10.0</td>\n",
       "      <td>2</td>\n",
       "      <td>17.0</td>\n",
       "      <td>1988</td>\n",
       "      <td>0.025609</td>\n",
       "      <td>B</td>\n",
       "      <td>B</td>\n",
       "      <td>33</td>\n",
       "      <td>5261</td>\n",
       "      <td>0</td>\n",
       "      <td>240.0</td>\n",
       "      <td>3</td>\n",
       "      <td>1</td>\n",
       "      <td>B</td>\n",
       "      <td>282078.720850</td>\n",
       "    </tr>\n",
       "    <tr>\n",
       "      <th>3</th>\n",
       "      <td>2352</td>\n",
       "      <td>1</td>\n",
       "      <td>1.0</td>\n",
       "      <td>40.409907</td>\n",
       "      <td>NaN</td>\n",
       "      <td>1.0</td>\n",
       "      <td>10</td>\n",
       "      <td>22.0</td>\n",
       "      <td>1977</td>\n",
       "      <td>0.007122</td>\n",
       "      <td>B</td>\n",
       "      <td>B</td>\n",
       "      <td>1</td>\n",
       "      <td>264</td>\n",
       "      <td>0</td>\n",
       "      <td>NaN</td>\n",
       "      <td>0</td>\n",
       "      <td>1</td>\n",
       "      <td>B</td>\n",
       "      <td>168106.007630</td>\n",
       "    </tr>\n",
       "    <tr>\n",
       "      <th>4</th>\n",
       "      <td>13866</td>\n",
       "      <td>94</td>\n",
       "      <td>2.0</td>\n",
       "      <td>64.285067</td>\n",
       "      <td>38.562517</td>\n",
       "      <td>9.0</td>\n",
       "      <td>16</td>\n",
       "      <td>16.0</td>\n",
       "      <td>1972</td>\n",
       "      <td>0.282798</td>\n",
       "      <td>B</td>\n",
       "      <td>B</td>\n",
       "      <td>33</td>\n",
       "      <td>8667</td>\n",
       "      <td>2</td>\n",
       "      <td>NaN</td>\n",
       "      <td>0</td>\n",
       "      <td>6</td>\n",
       "      <td>B</td>\n",
       "      <td>343995.102962</td>\n",
       "    </tr>\n",
       "    <tr>\n",
       "      <th>5</th>\n",
       "      <td>5804</td>\n",
       "      <td>99</td>\n",
       "      <td>3.0</td>\n",
       "      <td>62.528465</td>\n",
       "      <td>47.103833</td>\n",
       "      <td>6.0</td>\n",
       "      <td>9</td>\n",
       "      <td>9.0</td>\n",
       "      <td>1972</td>\n",
       "      <td>0.012339</td>\n",
       "      <td>B</td>\n",
       "      <td>B</td>\n",
       "      <td>35</td>\n",
       "      <td>5776</td>\n",
       "      <td>1</td>\n",
       "      <td>2078.0</td>\n",
       "      <td>2</td>\n",
       "      <td>4</td>\n",
       "      <td>B</td>\n",
       "      <td>161044.944138</td>\n",
       "    </tr>\n",
       "    <tr>\n",
       "      <th>6</th>\n",
       "      <td>8864</td>\n",
       "      <td>44</td>\n",
       "      <td>1.0</td>\n",
       "      <td>33.938750</td>\n",
       "      <td>21.772930</td>\n",
       "      <td>9.0</td>\n",
       "      <td>1</td>\n",
       "      <td>12.0</td>\n",
       "      <td>1968</td>\n",
       "      <td>0.232205</td>\n",
       "      <td>B</td>\n",
       "      <td>B</td>\n",
       "      <td>24</td>\n",
       "      <td>4860</td>\n",
       "      <td>1</td>\n",
       "      <td>80.0</td>\n",
       "      <td>0</td>\n",
       "      <td>3</td>\n",
       "      <td>B</td>\n",
       "      <td>142402.739272</td>\n",
       "    </tr>\n",
       "    <tr>\n",
       "      <th>7</th>\n",
       "      <td>13072</td>\n",
       "      <td>59</td>\n",
       "      <td>2.0</td>\n",
       "      <td>50.391814</td>\n",
       "      <td>32.893256</td>\n",
       "      <td>8.0</td>\n",
       "      <td>8</td>\n",
       "      <td>17.0</td>\n",
       "      <td>1986</td>\n",
       "      <td>0.019509</td>\n",
       "      <td>B</td>\n",
       "      <td>B</td>\n",
       "      <td>37</td>\n",
       "      <td>7687</td>\n",
       "      <td>11</td>\n",
       "      <td>176.0</td>\n",
       "      <td>5</td>\n",
       "      <td>5</td>\n",
       "      <td>B</td>\n",
       "      <td>326174.175191</td>\n",
       "    </tr>\n",
       "    <tr>\n",
       "      <th>8</th>\n",
       "      <td>9951</td>\n",
       "      <td>1</td>\n",
       "      <td>1.0</td>\n",
       "      <td>46.887892</td>\n",
       "      <td>44.628132</td>\n",
       "      <td>1.0</td>\n",
       "      <td>12</td>\n",
       "      <td>20.0</td>\n",
       "      <td>1977</td>\n",
       "      <td>0.007122</td>\n",
       "      <td>B</td>\n",
       "      <td>B</td>\n",
       "      <td>1</td>\n",
       "      <td>264</td>\n",
       "      <td>0</td>\n",
       "      <td>NaN</td>\n",
       "      <td>0</td>\n",
       "      <td>1</td>\n",
       "      <td>B</td>\n",
       "      <td>160400.401732</td>\n",
       "    </tr>\n",
       "    <tr>\n",
       "      <th>9</th>\n",
       "      <td>8094</td>\n",
       "      <td>6</td>\n",
       "      <td>3.0</td>\n",
       "      <td>79.867477</td>\n",
       "      <td>75.085125</td>\n",
       "      <td>1.0</td>\n",
       "      <td>3</td>\n",
       "      <td>17.0</td>\n",
       "      <td>2014</td>\n",
       "      <td>0.243205</td>\n",
       "      <td>B</td>\n",
       "      <td>B</td>\n",
       "      <td>5</td>\n",
       "      <td>1564</td>\n",
       "      <td>0</td>\n",
       "      <td>540.0</td>\n",
       "      <td>0</td>\n",
       "      <td>0</td>\n",
       "      <td>B</td>\n",
       "      <td>194756.023945</td>\n",
       "    </tr>\n",
       "  </tbody>\n",
       "</table>\n",
       "</div>"
      ],
      "text/plain": [
       "      Id  DistrictId  Rooms      Square  LifeSquare  KitchenSquare  Floor  \\\n",
       "0  11809          27    3.0  115.027311         NaN           10.0      4   \n",
       "1   3013          22    1.0   39.832524   23.169223            8.0      7   \n",
       "2   8215           1    3.0   78.342215   47.671972           10.0      2   \n",
       "3   2352           1    1.0   40.409907         NaN            1.0     10   \n",
       "4  13866          94    2.0   64.285067   38.562517            9.0     16   \n",
       "5   5804          99    3.0   62.528465   47.103833            6.0      9   \n",
       "6   8864          44    1.0   33.938750   21.772930            9.0      1   \n",
       "7  13072          59    2.0   50.391814   32.893256            8.0      8   \n",
       "8   9951           1    1.0   46.887892   44.628132            1.0     12   \n",
       "9   8094           6    3.0   79.867477   75.085125            1.0      3   \n",
       "\n",
       "   HouseFloor  HouseYear  Ecology_1 Ecology_2 Ecology_3  Social_1  Social_2  \\\n",
       "0        10.0       2014   0.075424         B         B        11      3097   \n",
       "1         8.0       1966   0.118537         B         B        30      6207   \n",
       "2        17.0       1988   0.025609         B         B        33      5261   \n",
       "3        22.0       1977   0.007122         B         B         1       264   \n",
       "4        16.0       1972   0.282798         B         B        33      8667   \n",
       "5         9.0       1972   0.012339         B         B        35      5776   \n",
       "6        12.0       1968   0.232205         B         B        24      4860   \n",
       "7        17.0       1986   0.019509         B         B        37      7687   \n",
       "8        20.0       1977   0.007122         B         B         1       264   \n",
       "9        17.0       2014   0.243205         B         B         5      1564   \n",
       "\n",
       "   Social_3  Healthcare_1  Helthcare_2  Shops_1 Shops_2          Price  \n",
       "0         0           NaN            0        0       B  305018.871089  \n",
       "1         1        1183.0            1        0       B  177734.553407  \n",
       "2         0         240.0            3        1       B  282078.720850  \n",
       "3         0           NaN            0        1       B  168106.007630  \n",
       "4         2           NaN            0        6       B  343995.102962  \n",
       "5         1        2078.0            2        4       B  161044.944138  \n",
       "6         1          80.0            0        3       B  142402.739272  \n",
       "7        11         176.0            5        5       B  326174.175191  \n",
       "8         0           NaN            0        1       B  160400.401732  \n",
       "9         0         540.0            0        0       B  194756.023945  "
      ]
     },
     "execution_count": 3,
     "metadata": {},
     "output_type": "execute_result"
    }
   ],
   "source": [
    "tr_df.head(10)"
   ]
  },
  {
   "cell_type": "code",
   "execution_count": 162,
   "id": "95ad7ff3",
   "metadata": {},
   "outputs": [
    {
     "name": "stdout",
     "output_type": "stream",
     "text": [
      "<class 'pandas.core.frame.DataFrame'>\n",
      "RangeIndex: 10000 entries, 0 to 9999\n",
      "Data columns (total 20 columns):\n",
      " #   Column         Non-Null Count  Dtype  \n",
      "---  ------         --------------  -----  \n",
      " 0   Id             10000 non-null  int64  \n",
      " 1   DistrictId     10000 non-null  int64  \n",
      " 2   Rooms          10000 non-null  float64\n",
      " 3   Square         10000 non-null  float64\n",
      " 4   LifeSquare     7887 non-null   float64\n",
      " 5   KitchenSquare  10000 non-null  float64\n",
      " 6   Floor          10000 non-null  int64  \n",
      " 7   HouseFloor     10000 non-null  float64\n",
      " 8   HouseYear      10000 non-null  int64  \n",
      " 9   Ecology_1      10000 non-null  float64\n",
      " 10  Ecology_2      10000 non-null  object \n",
      " 11  Ecology_3      10000 non-null  object \n",
      " 12  Social_1       10000 non-null  int64  \n",
      " 13  Social_2       10000 non-null  int64  \n",
      " 14  Social_3       10000 non-null  int64  \n",
      " 15  Healthcare_1   5202 non-null   float64\n",
      " 16  Helthcare_2    10000 non-null  int64  \n",
      " 17  Shops_1        10000 non-null  int64  \n",
      " 18  Shops_2        10000 non-null  object \n",
      " 19  Price          10000 non-null  float64\n",
      "dtypes: float64(8), int64(9), object(3)\n",
      "memory usage: 1.5+ MB\n"
     ]
    }
   ],
   "source": [
    "tr_df.info()"
   ]
  },
  {
   "cell_type": "code",
   "execution_count": 5,
   "id": "b946ad67",
   "metadata": {
    "scrolled": true
   },
   "outputs": [
    {
     "data": {
      "text/html": [
       "<div>\n",
       "<style scoped>\n",
       "    .dataframe tbody tr th:only-of-type {\n",
       "        vertical-align: middle;\n",
       "    }\n",
       "\n",
       "    .dataframe tbody tr th {\n",
       "        vertical-align: top;\n",
       "    }\n",
       "\n",
       "    .dataframe thead th {\n",
       "        text-align: right;\n",
       "    }\n",
       "</style>\n",
       "<table border=\"1\" class=\"dataframe\">\n",
       "  <thead>\n",
       "    <tr style=\"text-align: right;\">\n",
       "      <th></th>\n",
       "      <th>Id</th>\n",
       "      <th>DistrictId</th>\n",
       "      <th>Rooms</th>\n",
       "      <th>Square</th>\n",
       "      <th>LifeSquare</th>\n",
       "      <th>KitchenSquare</th>\n",
       "      <th>Floor</th>\n",
       "      <th>HouseFloor</th>\n",
       "      <th>HouseYear</th>\n",
       "      <th>Ecology_1</th>\n",
       "      <th>Social_1</th>\n",
       "      <th>Social_2</th>\n",
       "      <th>Social_3</th>\n",
       "      <th>Healthcare_1</th>\n",
       "      <th>Helthcare_2</th>\n",
       "      <th>Shops_1</th>\n",
       "      <th>Price</th>\n",
       "    </tr>\n",
       "  </thead>\n",
       "  <tbody>\n",
       "    <tr>\n",
       "      <th>count</th>\n",
       "      <td>10000.00000</td>\n",
       "      <td>10000.000000</td>\n",
       "      <td>10000.000000</td>\n",
       "      <td>10000.000000</td>\n",
       "      <td>7887.000000</td>\n",
       "      <td>10000.000000</td>\n",
       "      <td>10000.000000</td>\n",
       "      <td>10000.000000</td>\n",
       "      <td>1.000000e+04</td>\n",
       "      <td>10000.000000</td>\n",
       "      <td>10000.000000</td>\n",
       "      <td>10000.000000</td>\n",
       "      <td>10000.000000</td>\n",
       "      <td>5202.000000</td>\n",
       "      <td>10000.000000</td>\n",
       "      <td>10000.000000</td>\n",
       "      <td>10000.000000</td>\n",
       "    </tr>\n",
       "    <tr>\n",
       "      <th>mean</th>\n",
       "      <td>8383.40770</td>\n",
       "      <td>50.400800</td>\n",
       "      <td>1.890500</td>\n",
       "      <td>56.315775</td>\n",
       "      <td>37.199645</td>\n",
       "      <td>6.273300</td>\n",
       "      <td>8.526700</td>\n",
       "      <td>12.609400</td>\n",
       "      <td>3.990166e+03</td>\n",
       "      <td>0.118858</td>\n",
       "      <td>24.687000</td>\n",
       "      <td>5352.157400</td>\n",
       "      <td>8.039200</td>\n",
       "      <td>1142.904460</td>\n",
       "      <td>1.319500</td>\n",
       "      <td>4.231300</td>\n",
       "      <td>214138.857399</td>\n",
       "    </tr>\n",
       "    <tr>\n",
       "      <th>std</th>\n",
       "      <td>4859.01902</td>\n",
       "      <td>43.587592</td>\n",
       "      <td>0.839512</td>\n",
       "      <td>21.058732</td>\n",
       "      <td>86.241209</td>\n",
       "      <td>28.560917</td>\n",
       "      <td>5.241148</td>\n",
       "      <td>6.775974</td>\n",
       "      <td>2.005003e+05</td>\n",
       "      <td>0.119025</td>\n",
       "      <td>17.532614</td>\n",
       "      <td>4006.799803</td>\n",
       "      <td>23.831875</td>\n",
       "      <td>1021.517264</td>\n",
       "      <td>1.493601</td>\n",
       "      <td>4.806341</td>\n",
       "      <td>92872.293865</td>\n",
       "    </tr>\n",
       "    <tr>\n",
       "      <th>min</th>\n",
       "      <td>0.00000</td>\n",
       "      <td>0.000000</td>\n",
       "      <td>0.000000</td>\n",
       "      <td>1.136859</td>\n",
       "      <td>0.370619</td>\n",
       "      <td>0.000000</td>\n",
       "      <td>1.000000</td>\n",
       "      <td>0.000000</td>\n",
       "      <td>1.910000e+03</td>\n",
       "      <td>0.000000</td>\n",
       "      <td>0.000000</td>\n",
       "      <td>168.000000</td>\n",
       "      <td>0.000000</td>\n",
       "      <td>0.000000</td>\n",
       "      <td>0.000000</td>\n",
       "      <td>0.000000</td>\n",
       "      <td>59174.778028</td>\n",
       "    </tr>\n",
       "    <tr>\n",
       "      <th>25%</th>\n",
       "      <td>4169.50000</td>\n",
       "      <td>20.000000</td>\n",
       "      <td>1.000000</td>\n",
       "      <td>41.774881</td>\n",
       "      <td>22.769832</td>\n",
       "      <td>1.000000</td>\n",
       "      <td>4.000000</td>\n",
       "      <td>9.000000</td>\n",
       "      <td>1.974000e+03</td>\n",
       "      <td>0.017647</td>\n",
       "      <td>6.000000</td>\n",
       "      <td>1564.000000</td>\n",
       "      <td>0.000000</td>\n",
       "      <td>350.000000</td>\n",
       "      <td>0.000000</td>\n",
       "      <td>1.000000</td>\n",
       "      <td>153872.633942</td>\n",
       "    </tr>\n",
       "    <tr>\n",
       "      <th>50%</th>\n",
       "      <td>8394.50000</td>\n",
       "      <td>36.000000</td>\n",
       "      <td>2.000000</td>\n",
       "      <td>52.513310</td>\n",
       "      <td>32.781260</td>\n",
       "      <td>6.000000</td>\n",
       "      <td>7.000000</td>\n",
       "      <td>13.000000</td>\n",
       "      <td>1.977000e+03</td>\n",
       "      <td>0.075424</td>\n",
       "      <td>25.000000</td>\n",
       "      <td>5285.000000</td>\n",
       "      <td>2.000000</td>\n",
       "      <td>900.000000</td>\n",
       "      <td>1.000000</td>\n",
       "      <td>3.000000</td>\n",
       "      <td>192269.644879</td>\n",
       "    </tr>\n",
       "    <tr>\n",
       "      <th>75%</th>\n",
       "      <td>12592.50000</td>\n",
       "      <td>75.000000</td>\n",
       "      <td>2.000000</td>\n",
       "      <td>65.900625</td>\n",
       "      <td>45.128803</td>\n",
       "      <td>9.000000</td>\n",
       "      <td>12.000000</td>\n",
       "      <td>17.000000</td>\n",
       "      <td>2.001000e+03</td>\n",
       "      <td>0.195781</td>\n",
       "      <td>36.000000</td>\n",
       "      <td>7227.000000</td>\n",
       "      <td>5.000000</td>\n",
       "      <td>1548.000000</td>\n",
       "      <td>2.000000</td>\n",
       "      <td>6.000000</td>\n",
       "      <td>249135.462171</td>\n",
       "    </tr>\n",
       "    <tr>\n",
       "      <th>max</th>\n",
       "      <td>16798.00000</td>\n",
       "      <td>209.000000</td>\n",
       "      <td>19.000000</td>\n",
       "      <td>641.065193</td>\n",
       "      <td>7480.592129</td>\n",
       "      <td>2014.000000</td>\n",
       "      <td>42.000000</td>\n",
       "      <td>117.000000</td>\n",
       "      <td>2.005201e+07</td>\n",
       "      <td>0.521867</td>\n",
       "      <td>74.000000</td>\n",
       "      <td>19083.000000</td>\n",
       "      <td>141.000000</td>\n",
       "      <td>4849.000000</td>\n",
       "      <td>6.000000</td>\n",
       "      <td>23.000000</td>\n",
       "      <td>633233.466570</td>\n",
       "    </tr>\n",
       "  </tbody>\n",
       "</table>\n",
       "</div>"
      ],
      "text/plain": [
       "                Id    DistrictId         Rooms        Square   LifeSquare  \\\n",
       "count  10000.00000  10000.000000  10000.000000  10000.000000  7887.000000   \n",
       "mean    8383.40770     50.400800      1.890500     56.315775    37.199645   \n",
       "std     4859.01902     43.587592      0.839512     21.058732    86.241209   \n",
       "min        0.00000      0.000000      0.000000      1.136859     0.370619   \n",
       "25%     4169.50000     20.000000      1.000000     41.774881    22.769832   \n",
       "50%     8394.50000     36.000000      2.000000     52.513310    32.781260   \n",
       "75%    12592.50000     75.000000      2.000000     65.900625    45.128803   \n",
       "max    16798.00000    209.000000     19.000000    641.065193  7480.592129   \n",
       "\n",
       "       KitchenSquare         Floor    HouseFloor     HouseYear     Ecology_1  \\\n",
       "count   10000.000000  10000.000000  10000.000000  1.000000e+04  10000.000000   \n",
       "mean        6.273300      8.526700     12.609400  3.990166e+03      0.118858   \n",
       "std        28.560917      5.241148      6.775974  2.005003e+05      0.119025   \n",
       "min         0.000000      1.000000      0.000000  1.910000e+03      0.000000   \n",
       "25%         1.000000      4.000000      9.000000  1.974000e+03      0.017647   \n",
       "50%         6.000000      7.000000     13.000000  1.977000e+03      0.075424   \n",
       "75%         9.000000     12.000000     17.000000  2.001000e+03      0.195781   \n",
       "max      2014.000000     42.000000    117.000000  2.005201e+07      0.521867   \n",
       "\n",
       "           Social_1      Social_2      Social_3  Healthcare_1   Helthcare_2  \\\n",
       "count  10000.000000  10000.000000  10000.000000   5202.000000  10000.000000   \n",
       "mean      24.687000   5352.157400      8.039200   1142.904460      1.319500   \n",
       "std       17.532614   4006.799803     23.831875   1021.517264      1.493601   \n",
       "min        0.000000    168.000000      0.000000      0.000000      0.000000   \n",
       "25%        6.000000   1564.000000      0.000000    350.000000      0.000000   \n",
       "50%       25.000000   5285.000000      2.000000    900.000000      1.000000   \n",
       "75%       36.000000   7227.000000      5.000000   1548.000000      2.000000   \n",
       "max       74.000000  19083.000000    141.000000   4849.000000      6.000000   \n",
       "\n",
       "            Shops_1          Price  \n",
       "count  10000.000000   10000.000000  \n",
       "mean       4.231300  214138.857399  \n",
       "std        4.806341   92872.293865  \n",
       "min        0.000000   59174.778028  \n",
       "25%        1.000000  153872.633942  \n",
       "50%        3.000000  192269.644879  \n",
       "75%        6.000000  249135.462171  \n",
       "max       23.000000  633233.466570  "
      ]
     },
     "execution_count": 5,
     "metadata": {},
     "output_type": "execute_result"
    }
   ],
   "source": [
    "tr_df.describe()"
   ]
  },
  {
   "cell_type": "code",
   "execution_count": 164,
   "id": "18cbac87",
   "metadata": {},
   "outputs": [
    {
     "data": {
      "text/html": [
       "<div>\n",
       "<style scoped>\n",
       "    .dataframe tbody tr th:only-of-type {\n",
       "        vertical-align: middle;\n",
       "    }\n",
       "\n",
       "    .dataframe tbody tr th {\n",
       "        vertical-align: top;\n",
       "    }\n",
       "\n",
       "    .dataframe thead th {\n",
       "        text-align: right;\n",
       "    }\n",
       "</style>\n",
       "<table border=\"1\" class=\"dataframe\">\n",
       "  <thead>\n",
       "    <tr style=\"text-align: right;\">\n",
       "      <th></th>\n",
       "      <th>Id</th>\n",
       "      <th>DistrictId</th>\n",
       "      <th>Rooms</th>\n",
       "      <th>Square</th>\n",
       "      <th>LifeSquare</th>\n",
       "      <th>KitchenSquare</th>\n",
       "      <th>Floor</th>\n",
       "      <th>HouseFloor</th>\n",
       "      <th>HouseYear</th>\n",
       "      <th>Ecology_1</th>\n",
       "      <th>Social_1</th>\n",
       "      <th>Social_2</th>\n",
       "      <th>Social_3</th>\n",
       "      <th>Healthcare_1</th>\n",
       "      <th>Helthcare_2</th>\n",
       "      <th>Shops_1</th>\n",
       "      <th>Price</th>\n",
       "    </tr>\n",
       "  </thead>\n",
       "  <tbody>\n",
       "    <tr>\n",
       "      <th>Id</th>\n",
       "      <td>1.000000</td>\n",
       "      <td>0.012973</td>\n",
       "      <td>-0.005847</td>\n",
       "      <td>-0.010071</td>\n",
       "      <td>0.018449</td>\n",
       "      <td>0.019880</td>\n",
       "      <td>0.001348</td>\n",
       "      <td>-0.008376</td>\n",
       "      <td>0.005004</td>\n",
       "      <td>0.018097</td>\n",
       "      <td>-0.000772</td>\n",
       "      <td>-0.002033</td>\n",
       "      <td>-0.009358</td>\n",
       "      <td>-0.003879</td>\n",
       "      <td>0.001502</td>\n",
       "      <td>-0.008718</td>\n",
       "      <td>0.009880</td>\n",
       "    </tr>\n",
       "    <tr>\n",
       "      <th>DistrictId</th>\n",
       "      <td>0.012973</td>\n",
       "      <td>1.000000</td>\n",
       "      <td>0.071432</td>\n",
       "      <td>-0.026613</td>\n",
       "      <td>-0.019910</td>\n",
       "      <td>0.040358</td>\n",
       "      <td>-0.120373</td>\n",
       "      <td>-0.149051</td>\n",
       "      <td>0.013430</td>\n",
       "      <td>0.065294</td>\n",
       "      <td>0.246463</td>\n",
       "      <td>0.167479</td>\n",
       "      <td>0.136095</td>\n",
       "      <td>0.304335</td>\n",
       "      <td>0.306147</td>\n",
       "      <td>0.174214</td>\n",
       "      <td>0.265100</td>\n",
       "    </tr>\n",
       "    <tr>\n",
       "      <th>Rooms</th>\n",
       "      <td>-0.005847</td>\n",
       "      <td>0.071432</td>\n",
       "      <td>1.000000</td>\n",
       "      <td>0.662893</td>\n",
       "      <td>0.131336</td>\n",
       "      <td>0.005123</td>\n",
       "      <td>-0.000665</td>\n",
       "      <td>-0.029302</td>\n",
       "      <td>-0.010612</td>\n",
       "      <td>-0.032347</td>\n",
       "      <td>0.075980</td>\n",
       "      <td>0.071335</td>\n",
       "      <td>0.012811</td>\n",
       "      <td>0.042857</td>\n",
       "      <td>0.063557</td>\n",
       "      <td>0.053618</td>\n",
       "      <td>0.550291</td>\n",
       "    </tr>\n",
       "    <tr>\n",
       "      <th>Square</th>\n",
       "      <td>-0.010071</td>\n",
       "      <td>-0.026613</td>\n",
       "      <td>0.662893</td>\n",
       "      <td>1.000000</td>\n",
       "      <td>0.196129</td>\n",
       "      <td>0.008320</td>\n",
       "      <td>0.114791</td>\n",
       "      <td>0.081505</td>\n",
       "      <td>-0.009032</td>\n",
       "      <td>-0.064479</td>\n",
       "      <td>-0.070690</td>\n",
       "      <td>-0.043120</td>\n",
       "      <td>0.035241</td>\n",
       "      <td>-0.039748</td>\n",
       "      <td>-0.022960</td>\n",
       "      <td>0.021357</td>\n",
       "      <td>0.520075</td>\n",
       "    </tr>\n",
       "    <tr>\n",
       "      <th>LifeSquare</th>\n",
       "      <td>0.018449</td>\n",
       "      <td>-0.019910</td>\n",
       "      <td>0.131336</td>\n",
       "      <td>0.196129</td>\n",
       "      <td>1.000000</td>\n",
       "      <td>-0.001195</td>\n",
       "      <td>0.024559</td>\n",
       "      <td>0.027442</td>\n",
       "      <td>-0.002210</td>\n",
       "      <td>-0.023629</td>\n",
       "      <td>-0.048363</td>\n",
       "      <td>-0.039283</td>\n",
       "      <td>0.012763</td>\n",
       "      <td>-0.026867</td>\n",
       "      <td>-0.024762</td>\n",
       "      <td>-0.007569</td>\n",
       "      <td>0.081292</td>\n",
       "    </tr>\n",
       "    <tr>\n",
       "      <th>KitchenSquare</th>\n",
       "      <td>0.019880</td>\n",
       "      <td>0.040358</td>\n",
       "      <td>0.005123</td>\n",
       "      <td>0.008320</td>\n",
       "      <td>-0.001195</td>\n",
       "      <td>1.000000</td>\n",
       "      <td>-0.011397</td>\n",
       "      <td>0.000780</td>\n",
       "      <td>0.000958</td>\n",
       "      <td>-0.005622</td>\n",
       "      <td>0.043379</td>\n",
       "      <td>0.037805</td>\n",
       "      <td>-0.015140</td>\n",
       "      <td>0.009472</td>\n",
       "      <td>0.043170</td>\n",
       "      <td>0.010216</td>\n",
       "      <td>0.028864</td>\n",
       "    </tr>\n",
       "    <tr>\n",
       "      <th>Floor</th>\n",
       "      <td>0.001348</td>\n",
       "      <td>-0.120373</td>\n",
       "      <td>-0.000665</td>\n",
       "      <td>0.114791</td>\n",
       "      <td>0.024559</td>\n",
       "      <td>-0.011397</td>\n",
       "      <td>1.000000</td>\n",
       "      <td>0.418986</td>\n",
       "      <td>0.000928</td>\n",
       "      <td>-0.016133</td>\n",
       "      <td>-0.044914</td>\n",
       "      <td>-0.016560</td>\n",
       "      <td>-0.002237</td>\n",
       "      <td>-0.138294</td>\n",
       "      <td>-0.065537</td>\n",
       "      <td>0.024264</td>\n",
       "      <td>0.128715</td>\n",
       "    </tr>\n",
       "    <tr>\n",
       "      <th>HouseFloor</th>\n",
       "      <td>-0.008376</td>\n",
       "      <td>-0.149051</td>\n",
       "      <td>-0.029302</td>\n",
       "      <td>0.081505</td>\n",
       "      <td>0.027442</td>\n",
       "      <td>0.000780</td>\n",
       "      <td>0.418986</td>\n",
       "      <td>1.000000</td>\n",
       "      <td>-0.000864</td>\n",
       "      <td>-0.004362</td>\n",
       "      <td>-0.020801</td>\n",
       "      <td>0.007194</td>\n",
       "      <td>-0.008137</td>\n",
       "      <td>-0.143973</td>\n",
       "      <td>-0.068728</td>\n",
       "      <td>0.026279</td>\n",
       "      <td>0.088280</td>\n",
       "    </tr>\n",
       "    <tr>\n",
       "      <th>HouseYear</th>\n",
       "      <td>0.005004</td>\n",
       "      <td>0.013430</td>\n",
       "      <td>-0.010612</td>\n",
       "      <td>-0.009032</td>\n",
       "      <td>-0.002210</td>\n",
       "      <td>0.000958</td>\n",
       "      <td>0.000928</td>\n",
       "      <td>-0.000864</td>\n",
       "      <td>1.000000</td>\n",
       "      <td>0.001465</td>\n",
       "      <td>0.003026</td>\n",
       "      <td>0.001970</td>\n",
       "      <td>0.000819</td>\n",
       "      <td>-0.011969</td>\n",
       "      <td>0.011245</td>\n",
       "      <td>0.003681</td>\n",
       "      <td>0.004305</td>\n",
       "    </tr>\n",
       "    <tr>\n",
       "      <th>Ecology_1</th>\n",
       "      <td>0.018097</td>\n",
       "      <td>0.065294</td>\n",
       "      <td>-0.032347</td>\n",
       "      <td>-0.064479</td>\n",
       "      <td>-0.023629</td>\n",
       "      <td>-0.005622</td>\n",
       "      <td>-0.016133</td>\n",
       "      <td>-0.004362</td>\n",
       "      <td>0.001465</td>\n",
       "      <td>1.000000</td>\n",
       "      <td>0.026464</td>\n",
       "      <td>0.009264</td>\n",
       "      <td>-0.124068</td>\n",
       "      <td>-0.043547</td>\n",
       "      <td>0.030873</td>\n",
       "      <td>-0.076749</td>\n",
       "      <td>-0.058381</td>\n",
       "    </tr>\n",
       "    <tr>\n",
       "      <th>Social_1</th>\n",
       "      <td>-0.000772</td>\n",
       "      <td>0.246463</td>\n",
       "      <td>0.075980</td>\n",
       "      <td>-0.070690</td>\n",
       "      <td>-0.048363</td>\n",
       "      <td>0.043379</td>\n",
       "      <td>-0.044914</td>\n",
       "      <td>-0.020801</td>\n",
       "      <td>0.003026</td>\n",
       "      <td>0.026464</td>\n",
       "      <td>1.000000</td>\n",
       "      <td>0.955988</td>\n",
       "      <td>0.023721</td>\n",
       "      <td>0.077133</td>\n",
       "      <td>0.524593</td>\n",
       "      <td>0.526272</td>\n",
       "      <td>0.263286</td>\n",
       "    </tr>\n",
       "    <tr>\n",
       "      <th>Social_2</th>\n",
       "      <td>-0.002033</td>\n",
       "      <td>0.167479</td>\n",
       "      <td>0.071335</td>\n",
       "      <td>-0.043120</td>\n",
       "      <td>-0.039283</td>\n",
       "      <td>0.037805</td>\n",
       "      <td>-0.016560</td>\n",
       "      <td>0.007194</td>\n",
       "      <td>0.001970</td>\n",
       "      <td>0.009264</td>\n",
       "      <td>0.955988</td>\n",
       "      <td>1.000000</td>\n",
       "      <td>0.073379</td>\n",
       "      <td>0.050458</td>\n",
       "      <td>0.473193</td>\n",
       "      <td>0.559163</td>\n",
       "      <td>0.239226</td>\n",
       "    </tr>\n",
       "    <tr>\n",
       "      <th>Social_3</th>\n",
       "      <td>-0.009358</td>\n",
       "      <td>0.136095</td>\n",
       "      <td>0.012811</td>\n",
       "      <td>0.035241</td>\n",
       "      <td>0.012763</td>\n",
       "      <td>-0.015140</td>\n",
       "      <td>-0.002237</td>\n",
       "      <td>-0.008137</td>\n",
       "      <td>0.000819</td>\n",
       "      <td>-0.124068</td>\n",
       "      <td>0.023721</td>\n",
       "      <td>0.073379</td>\n",
       "      <td>1.000000</td>\n",
       "      <td>0.133877</td>\n",
       "      <td>0.286434</td>\n",
       "      <td>0.662113</td>\n",
       "      <td>0.074878</td>\n",
       "    </tr>\n",
       "    <tr>\n",
       "      <th>Healthcare_1</th>\n",
       "      <td>-0.003879</td>\n",
       "      <td>0.304335</td>\n",
       "      <td>0.042857</td>\n",
       "      <td>-0.039748</td>\n",
       "      <td>-0.026867</td>\n",
       "      <td>0.009472</td>\n",
       "      <td>-0.138294</td>\n",
       "      <td>-0.143973</td>\n",
       "      <td>-0.011969</td>\n",
       "      <td>-0.043547</td>\n",
       "      <td>0.077133</td>\n",
       "      <td>0.050458</td>\n",
       "      <td>0.133877</td>\n",
       "      <td>1.000000</td>\n",
       "      <td>0.203177</td>\n",
       "      <td>0.057758</td>\n",
       "      <td>0.138755</td>\n",
       "    </tr>\n",
       "    <tr>\n",
       "      <th>Helthcare_2</th>\n",
       "      <td>0.001502</td>\n",
       "      <td>0.306147</td>\n",
       "      <td>0.063557</td>\n",
       "      <td>-0.022960</td>\n",
       "      <td>-0.024762</td>\n",
       "      <td>0.043170</td>\n",
       "      <td>-0.065537</td>\n",
       "      <td>-0.068728</td>\n",
       "      <td>0.011245</td>\n",
       "      <td>0.030873</td>\n",
       "      <td>0.524593</td>\n",
       "      <td>0.473193</td>\n",
       "      <td>0.286434</td>\n",
       "      <td>0.203177</td>\n",
       "      <td>1.000000</td>\n",
       "      <td>0.474085</td>\n",
       "      <td>0.253090</td>\n",
       "    </tr>\n",
       "    <tr>\n",
       "      <th>Shops_1</th>\n",
       "      <td>-0.008718</td>\n",
       "      <td>0.174214</td>\n",
       "      <td>0.053618</td>\n",
       "      <td>0.021357</td>\n",
       "      <td>-0.007569</td>\n",
       "      <td>0.010216</td>\n",
       "      <td>0.024264</td>\n",
       "      <td>0.026279</td>\n",
       "      <td>0.003681</td>\n",
       "      <td>-0.076749</td>\n",
       "      <td>0.526272</td>\n",
       "      <td>0.559163</td>\n",
       "      <td>0.662113</td>\n",
       "      <td>0.057758</td>\n",
       "      <td>0.474085</td>\n",
       "      <td>1.000000</td>\n",
       "      <td>0.180876</td>\n",
       "    </tr>\n",
       "    <tr>\n",
       "      <th>Price</th>\n",
       "      <td>0.009880</td>\n",
       "      <td>0.265100</td>\n",
       "      <td>0.550291</td>\n",
       "      <td>0.520075</td>\n",
       "      <td>0.081292</td>\n",
       "      <td>0.028864</td>\n",
       "      <td>0.128715</td>\n",
       "      <td>0.088280</td>\n",
       "      <td>0.004305</td>\n",
       "      <td>-0.058381</td>\n",
       "      <td>0.263286</td>\n",
       "      <td>0.239226</td>\n",
       "      <td>0.074878</td>\n",
       "      <td>0.138755</td>\n",
       "      <td>0.253090</td>\n",
       "      <td>0.180876</td>\n",
       "      <td>1.000000</td>\n",
       "    </tr>\n",
       "  </tbody>\n",
       "</table>\n",
       "</div>"
      ],
      "text/plain": [
       "                     Id  DistrictId     Rooms    Square  LifeSquare  \\\n",
       "Id             1.000000    0.012973 -0.005847 -0.010071    0.018449   \n",
       "DistrictId     0.012973    1.000000  0.071432 -0.026613   -0.019910   \n",
       "Rooms         -0.005847    0.071432  1.000000  0.662893    0.131336   \n",
       "Square        -0.010071   -0.026613  0.662893  1.000000    0.196129   \n",
       "LifeSquare     0.018449   -0.019910  0.131336  0.196129    1.000000   \n",
       "KitchenSquare  0.019880    0.040358  0.005123  0.008320   -0.001195   \n",
       "Floor          0.001348   -0.120373 -0.000665  0.114791    0.024559   \n",
       "HouseFloor    -0.008376   -0.149051 -0.029302  0.081505    0.027442   \n",
       "HouseYear      0.005004    0.013430 -0.010612 -0.009032   -0.002210   \n",
       "Ecology_1      0.018097    0.065294 -0.032347 -0.064479   -0.023629   \n",
       "Social_1      -0.000772    0.246463  0.075980 -0.070690   -0.048363   \n",
       "Social_2      -0.002033    0.167479  0.071335 -0.043120   -0.039283   \n",
       "Social_3      -0.009358    0.136095  0.012811  0.035241    0.012763   \n",
       "Healthcare_1  -0.003879    0.304335  0.042857 -0.039748   -0.026867   \n",
       "Helthcare_2    0.001502    0.306147  0.063557 -0.022960   -0.024762   \n",
       "Shops_1       -0.008718    0.174214  0.053618  0.021357   -0.007569   \n",
       "Price          0.009880    0.265100  0.550291  0.520075    0.081292   \n",
       "\n",
       "               KitchenSquare     Floor  HouseFloor  HouseYear  Ecology_1  \\\n",
       "Id                  0.019880  0.001348   -0.008376   0.005004   0.018097   \n",
       "DistrictId          0.040358 -0.120373   -0.149051   0.013430   0.065294   \n",
       "Rooms               0.005123 -0.000665   -0.029302  -0.010612  -0.032347   \n",
       "Square              0.008320  0.114791    0.081505  -0.009032  -0.064479   \n",
       "LifeSquare         -0.001195  0.024559    0.027442  -0.002210  -0.023629   \n",
       "KitchenSquare       1.000000 -0.011397    0.000780   0.000958  -0.005622   \n",
       "Floor              -0.011397  1.000000    0.418986   0.000928  -0.016133   \n",
       "HouseFloor          0.000780  0.418986    1.000000  -0.000864  -0.004362   \n",
       "HouseYear           0.000958  0.000928   -0.000864   1.000000   0.001465   \n",
       "Ecology_1          -0.005622 -0.016133   -0.004362   0.001465   1.000000   \n",
       "Social_1            0.043379 -0.044914   -0.020801   0.003026   0.026464   \n",
       "Social_2            0.037805 -0.016560    0.007194   0.001970   0.009264   \n",
       "Social_3           -0.015140 -0.002237   -0.008137   0.000819  -0.124068   \n",
       "Healthcare_1        0.009472 -0.138294   -0.143973  -0.011969  -0.043547   \n",
       "Helthcare_2         0.043170 -0.065537   -0.068728   0.011245   0.030873   \n",
       "Shops_1             0.010216  0.024264    0.026279   0.003681  -0.076749   \n",
       "Price               0.028864  0.128715    0.088280   0.004305  -0.058381   \n",
       "\n",
       "               Social_1  Social_2  Social_3  Healthcare_1  Helthcare_2  \\\n",
       "Id            -0.000772 -0.002033 -0.009358     -0.003879     0.001502   \n",
       "DistrictId     0.246463  0.167479  0.136095      0.304335     0.306147   \n",
       "Rooms          0.075980  0.071335  0.012811      0.042857     0.063557   \n",
       "Square        -0.070690 -0.043120  0.035241     -0.039748    -0.022960   \n",
       "LifeSquare    -0.048363 -0.039283  0.012763     -0.026867    -0.024762   \n",
       "KitchenSquare  0.043379  0.037805 -0.015140      0.009472     0.043170   \n",
       "Floor         -0.044914 -0.016560 -0.002237     -0.138294    -0.065537   \n",
       "HouseFloor    -0.020801  0.007194 -0.008137     -0.143973    -0.068728   \n",
       "HouseYear      0.003026  0.001970  0.000819     -0.011969     0.011245   \n",
       "Ecology_1      0.026464  0.009264 -0.124068     -0.043547     0.030873   \n",
       "Social_1       1.000000  0.955988  0.023721      0.077133     0.524593   \n",
       "Social_2       0.955988  1.000000  0.073379      0.050458     0.473193   \n",
       "Social_3       0.023721  0.073379  1.000000      0.133877     0.286434   \n",
       "Healthcare_1   0.077133  0.050458  0.133877      1.000000     0.203177   \n",
       "Helthcare_2    0.524593  0.473193  0.286434      0.203177     1.000000   \n",
       "Shops_1        0.526272  0.559163  0.662113      0.057758     0.474085   \n",
       "Price          0.263286  0.239226  0.074878      0.138755     0.253090   \n",
       "\n",
       "                Shops_1     Price  \n",
       "Id            -0.008718  0.009880  \n",
       "DistrictId     0.174214  0.265100  \n",
       "Rooms          0.053618  0.550291  \n",
       "Square         0.021357  0.520075  \n",
       "LifeSquare    -0.007569  0.081292  \n",
       "KitchenSquare  0.010216  0.028864  \n",
       "Floor          0.024264  0.128715  \n",
       "HouseFloor     0.026279  0.088280  \n",
       "HouseYear      0.003681  0.004305  \n",
       "Ecology_1     -0.076749 -0.058381  \n",
       "Social_1       0.526272  0.263286  \n",
       "Social_2       0.559163  0.239226  \n",
       "Social_3       0.662113  0.074878  \n",
       "Healthcare_1   0.057758  0.138755  \n",
       "Helthcare_2    0.474085  0.253090  \n",
       "Shops_1        1.000000  0.180876  \n",
       "Price          0.180876  1.000000  "
      ]
     },
     "execution_count": 164,
     "metadata": {},
     "output_type": "execute_result"
    }
   ],
   "source": [
    "tr_df.corr()"
   ]
  },
  {
   "cell_type": "markdown",
   "id": "e52d7ff9",
   "metadata": {},
   "source": [
    "### Обработка данных"
   ]
  },
  {
   "cell_type": "code",
   "execution_count": 165,
   "id": "89680894",
   "metadata": {},
   "outputs": [
    {
     "data": {
      "text/plain": [
       "Id                  0\n",
       "DistrictId          0\n",
       "Rooms               0\n",
       "Square              0\n",
       "LifeSquare       2113\n",
       "KitchenSquare       0\n",
       "Floor               0\n",
       "HouseFloor          0\n",
       "HouseYear           0\n",
       "Ecology_1           0\n",
       "Ecology_2           0\n",
       "Ecology_3           0\n",
       "Social_1            0\n",
       "Social_2            0\n",
       "Social_3            0\n",
       "Healthcare_1     4798\n",
       "Helthcare_2         0\n",
       "Shops_1             0\n",
       "Shops_2             0\n",
       "Price               0\n",
       "dtype: int64"
      ]
     },
     "execution_count": 165,
     "metadata": {},
     "output_type": "execute_result"
    }
   ],
   "source": [
    "tr_df.isna().sum()"
   ]
  },
  {
   "cell_type": "code",
   "execution_count": 35,
   "id": "7528fe46",
   "metadata": {},
   "outputs": [
    {
     "name": "stdout",
     "output_type": "stream",
     "text": [
      "count    10000.000000\n",
      "mean        50.400800\n",
      "std         43.587592\n",
      "min          0.000000\n",
      "25%         20.000000\n",
      "50%         36.000000\n",
      "75%         75.000000\n",
      "max        209.000000\n",
      "Name: DistrictId, dtype: float64\n"
     ]
    },
    {
     "data": {
      "image/png": "[encoded data removed]",
      "text/plain": [
       "<Figure size 432x288 with 1 Axes>"
      ]
     },
     "metadata": {
      "needs_background": "light"
     },
     "output_type": "display_data"
    }
   ],
   "source": [
    "#РАЙОНЫ - выбросов нет, пропусков тоже\n",
    "distr_describe = tr_df['DistrictId'].describe()\n",
    "print(distr_describe)\n",
    "\n",
    "plt.hist(tr_df['DistrictId'], bins = 20)\n",
    "plt.show()"
   ]
  },
  {
   "cell_type": "code",
   "execution_count": 36,
   "id": "d268a22d",
   "metadata": {
    "scrolled": true
   },
   "outputs": [
    {
     "name": "stdout",
     "output_type": "stream",
     "text": [
      "Rooms_unique: [ 3.  1.  2.  4.  5. 10.  0. 19.  6.]\n",
      "count    10000.000000\n",
      "mean         1.890500\n",
      "std          0.839512\n",
      "min          0.000000\n",
      "25%          1.000000\n",
      "50%          2.000000\n",
      "75%          2.000000\n",
      "max         19.000000\n",
      "Name: Rooms, dtype: float64\n"
     ]
    },
    {
     "data": {
      "image/png": "[encoded data removed]",
      "text/plain": [
       "<Figure size 576x432 with 1 Axes>"
      ]
     },
     "metadata": {
      "needs_background": "light"
     },
     "output_type": "display_data"
    }
   ],
   "source": [
    "#КОМНАТЫ\n",
    "\n",
    "rooms_describe = tr_df['Rooms'].describe()\n",
    "rooms_values = tr_df['Rooms'].unique()\n",
    "print(f\"Rooms_unique: {rooms_values}\")\n",
    "print(rooms_describe)\n",
    "\n",
    "fig, ax = plt.subplots()\n",
    "fig.set_size_inches(8, 6)\n",
    "tr_df['Rooms'].hist(bins = 20)\n",
    "plt.yscale(value=\"log\")\n",
    "plt.show()"
   ]
  },
  {
   "cell_type": "code",
   "execution_count": 37,
   "id": "61da9a3e",
   "metadata": {},
   "outputs": [
    {
     "name": "stdout",
     "output_type": "stream",
     "text": [
      "count    10000.000000\n",
      "mean         1.888800\n",
      "std          0.812096\n",
      "min          1.000000\n",
      "25%          1.000000\n",
      "50%          2.000000\n",
      "75%          2.000000\n",
      "max          6.000000\n",
      "Name: Rooms, dtype: float64\n"
     ]
    }
   ],
   "source": [
    "#Видим выбросы, убираем меньше 1 комнаты и больше 5\n",
    "tr_df.loc[(tr_df['Rooms'] > 6) | (tr_df['Rooms'] < 1), 'Rooms'] = tr_df['Rooms'].median()\n",
    "rooms_des = tr_df['Rooms'].describe()\n",
    "print(rooms_des)"
   ]
  },
  {
   "cell_type": "code",
   "execution_count": 38,
   "id": "24e6ca3d",
   "metadata": {},
   "outputs": [
    {
     "data": {
      "image/png": "[encoded data removed]",
      "text/plain": [
       "<Figure size 576x432 with 1 Axes>"
      ]
     },
     "metadata": {
      "needs_background": "light"
     },
     "output_type": "display_data"
    }
   ],
   "source": [
    "#КОМНАТЫ визуализация обработанных данных\n",
    "plt.figure(figsize=[8, 6])\n",
    "plt.hist(tr_df['Rooms'], bins=5)\n",
    "plt.show()"
   ]
  },
  {
   "cell_type": "code",
   "execution_count": 39,
   "id": "b03815df",
   "metadata": {},
   "outputs": [
    {
     "name": "stdout",
     "output_type": "stream",
     "text": [
      "count    10000.000000\n",
      "mean        56.315775\n",
      "std         21.058732\n",
      "min          1.136859\n",
      "25%         41.774881\n",
      "50%         52.513310\n",
      "75%         65.900625\n",
      "max        641.065193\n",
      "Name: Square, dtype: float64\n"
     ]
    },
    {
     "data": {
      "image/png": "[encoded data removed]",
      "text/plain": [
       "<Figure size 1008x432 with 2 Axes>"
      ]
     },
     "metadata": {
      "needs_background": "light"
     },
     "output_type": "display_data"
    }
   ],
   "source": [
    "#КВАДРАТЫ\n",
    "\n",
    "square_describe = tr_df['Square'].describe()\n",
    "print(square_describe)\n",
    "\n",
    "fig, ax = plt.subplots(nrows = 1, ncols = 2)\n",
    "ax1, ax2 = ax.flatten()\n",
    "fig.set_size_inches(14, 6)\n",
    "\n",
    "ax1.hist(tr_df['Square'], bins=10, log=True)\n",
    "sns.kdeplot(tr_df['Square'], shade=True, legend=False)\n",
    "plt.show()"
   ]
  },
  {
   "cell_type": "code",
   "execution_count": 40,
   "id": "e8359f27",
   "metadata": {
    "scrolled": true
   },
   "outputs": [
    {
     "name": "stdout",
     "output_type": "stream",
     "text": [
      "max_value = 100.90624548226137\n",
      "min_value = 32.10518291149681\n",
      "median = 52.51330992401352\n",
      "\n",
      "count    10000.000000\n",
      "mean        55.108599\n",
      "std         15.215053\n",
      "min         32.105270\n",
      "25%         42.432730\n",
      "50%         52.513310\n",
      "75%         64.591720\n",
      "max        100.904263\n",
      "Name: Square, dtype: float64\n"
     ]
    }
   ],
   "source": [
    "#Отсекаем значения соответственно 0.025 и 0.975 квантилям и приравниваем к медиане\n",
    "square_max_value = np.quantile(tr_df['Square'], q = 0.975)\n",
    "square_min_value = np.quantile(tr_df['Square'], q = 0.025)\n",
    "print(f'max_value = {square_max_value}\\nmin_value = {square_min_value}\\nmedian = {tr_df[\"Square\"].median()}')\n",
    "\n",
    "tr_df.loc[(tr_df['Square'] > square_max_value) | (tr_df['Square'] < square_min_value), 'Square'] = tr_df['Square'].median()\n",
    "print(f\"\\n{tr_df['Square'].describe()}\")"
   ]
  },
  {
   "cell_type": "code",
   "execution_count": 190,
   "id": "1831d861",
   "metadata": {},
   "outputs": [
    {
     "data": {
      "text/plain": [
       "<AxesSubplot:xlabel='Square', ylabel='Density'>"
      ]
     },
     "execution_count": 190,
     "metadata": {},
     "output_type": "execute_result"
    },
    {
     "data": {
      "image/png": "[encoded data removed]",
      "text/plain": [
       "<Figure size 576x432 with 1 Axes>"
      ]
     },
     "metadata": {
      "needs_background": "light"
     },
     "output_type": "display_data"
    }
   ],
   "source": [
    "#КВАДРАТЫ визуализация обработанных данных\n",
    "plt.figure(figsize=[8, 6])\n",
    "sns.distplot(tr_df['Square'], bins = 8)"
   ]
  },
  {
   "cell_type": "code",
   "execution_count": 41,
   "id": "5b87ac81",
   "metadata": {
    "scrolled": true
   },
   "outputs": [
    {
     "name": "stdout",
     "output_type": "stream",
     "text": [
      "LifeSquare_null_count: 2113\n",
      "\n",
      "count    7887.000000\n",
      "mean       37.199645\n",
      "std        86.241209\n",
      "min         0.370619\n",
      "25%        22.769832\n",
      "50%        32.781260\n",
      "75%        45.128803\n",
      "max      7480.592129\n",
      "Name: LifeSquare, dtype: float64\n"
     ]
    },
    {
     "data": {
      "image/png": "[encoded data removed]",
      "text/plain": [
       "<Figure size 1008x432 with 2 Axes>"
      ]
     },
     "metadata": {
      "needs_background": "light"
     },
     "output_type": "display_data"
    }
   ],
   "source": [
    "#ЖИЛАЯ ПЛОЩАДЬ\n",
    "print(f'LifeSquare_null_count: {tr_df[\"LifeSquare\"].isna().sum()}')\n",
    "print(f'\\n{tr_df[\"LifeSquare\"].describe()}')\n",
    "\n",
    "plt.figure(figsize=[14, 6])\n",
    "plt.subplot(121)\n",
    "plt.hist(tr_df['LifeSquare'], bins = 20, log=True)\n",
    "\n",
    "plt.subplot(122)\n",
    "sns.kdeplot(tr_df['LifeSquare'], log_scale=True, shade=True, legend=False)\n",
    "\n",
    "plt.show()"
   ]
  },
  {
   "cell_type": "code",
   "execution_count": 42,
   "id": "6a8e5224",
   "metadata": {},
   "outputs": [
    {
     "data": {
      "text/plain": [
       "0"
      ]
     },
     "execution_count": 42,
     "metadata": {},
     "output_type": "execute_result"
    }
   ],
   "source": [
    "#ЖП обработка пропусков\n",
    "\n",
    "LS_median = tr_df['LifeSquare'].median()\n",
    "tr_df['LifeSquare'] = tr_df['LifeSquare'].fillna(LS_median)\n",
    "tr_df['LifeSquare'].isna().sum()"
   ]
  },
  {
   "cell_type": "code",
   "execution_count": 43,
   "id": "de9103a4",
   "metadata": {},
   "outputs": [
    {
     "name": "stdout",
     "output_type": "stream",
     "text": [
      "Нижний квантиль: 15.146123972262354\n",
      "Верхний квантиль: 78.3859441855343\n",
      "\n",
      "count    10000.000000\n",
      "mean        34.534440\n",
      "std         11.451088\n",
      "min         15.146290\n",
      "25%         27.982505\n",
      "50%         32.781260\n",
      "75%         39.424685\n",
      "max         78.384631\n",
      "Name: LifeSquare, dtype: float64\n"
     ]
    }
   ],
   "source": [
    "#ЖП обработка выбросов\n",
    "\n",
    "q_top = tr_df['LifeSquare'].quantile(0.975)\n",
    "q_bot = tr_df['LifeSquare'].quantile(0.025)\n",
    "print(f\"Нижний квантиль: {q_bot}\")\n",
    "print(f\"Верхний квантиль: {q_top}\")\n",
    "\n",
    "tr_df.loc[(tr_df['LifeSquare'] < q_bot) | (tr_df['LifeSquare'] > q_top), 'LifeSquare'] = LS_median\n",
    "print(f'\\n{tr_df[\"LifeSquare\"].describe()}')"
   ]
  },
  {
   "cell_type": "code",
   "execution_count": 194,
   "id": "8270b61c",
   "metadata": {},
   "outputs": [
    {
     "data": {
      "text/plain": [
       "<AxesSubplot:xlabel='LifeSquare', ylabel='Density'>"
      ]
     },
     "execution_count": 194,
     "metadata": {},
     "output_type": "execute_result"
    },
    {
     "data": {
      "image/png": "[encoded data removed]",
      "text/plain": [
       "<Figure size 576x432 with 1 Axes>"
      ]
     },
     "metadata": {
      "needs_background": "light"
     },
     "output_type": "display_data"
    }
   ],
   "source": [
    "#ЖП визуализация обработанных данных\n",
    "plt.figure(figsize=[8, 6])\n",
    "sns.distplot(tr_df['LifeSquare'], bins = 8)"
   ]
  },
  {
   "cell_type": "code",
   "execution_count": 44,
   "id": "7af6409a",
   "metadata": {
    "scrolled": false
   },
   "outputs": [
    {
     "name": "stdout",
     "output_type": "stream",
     "text": [
      "\n",
      "count    10000.000000\n",
      "mean         6.273300\n",
      "std         28.560917\n",
      "min          0.000000\n",
      "25%          1.000000\n",
      "50%          6.000000\n",
      "75%          9.000000\n",
      "max       2014.000000\n",
      "Name: KitchenSquare, dtype: float64\n"
     ]
    },
    {
     "data": {
      "image/png": "[encoded data removed]",
      "text/plain": [
       "<Figure size 720x432 with 1 Axes>"
      ]
     },
     "metadata": {
      "needs_background": "light"
     },
     "output_type": "display_data"
    }
   ],
   "source": [
    "#ПЛОЩАДЬ КУХНИ\n",
    "print(f'\\n{tr_df[\"KitchenSquare\"].describe()}')\n",
    "\n",
    "plt.figure(figsize=[10, 6])\n",
    "plt.hist(tr_df['KitchenSquare'], bins = 20, log=True)\n",
    "\n",
    "plt.show()"
   ]
  },
  {
   "cell_type": "code",
   "execution_count": 45,
   "id": "b6aa8bc2",
   "metadata": {},
   "outputs": [
    {
     "name": "stdout",
     "output_type": "stream",
     "text": [
      "Нижний квантиль: 0.0\n",
      "Верхний квантиль: 13.0\n",
      "Медиана: 6.0\n",
      "\n",
      "count    10000.000000\n",
      "mean         5.536700\n",
      "std          3.670668\n",
      "min          0.000000\n",
      "25%          1.000000\n",
      "50%          6.000000\n",
      "75%          8.000000\n",
      "max         13.000000\n",
      "Name: KitchenSquare, dtype: float64\n"
     ]
    }
   ],
   "source": [
    "#1 - У ПК отсутствуют пропуски => обрабатываем выбросы\n",
    "#2 - Бывают квартиры-студии в которых комнаты совмещены с кухнями, соответственно нижний квантиль\n",
    "#равный 0 не берем, срезаем только верх\n",
    "KS_median = tr_df['KitchenSquare'].median()\n",
    "q_top = tr_df['KitchenSquare'].quantile(0.975)\n",
    "q_bot = tr_df['KitchenSquare'].quantile(0.025)\n",
    "\n",
    "print(f\"Нижний квантиль: {q_bot}\")\n",
    "print(f\"Верхний квантиль: {q_top}\")\n",
    "print(f\"Медиана: {KS_median}\")\n",
    "\n",
    "tr_df.loc[(tr_df['KitchenSquare'] > q_top, 'KitchenSquare')] = KS_median\n",
    "print(f'\\n{tr_df[\"KitchenSquare\"].describe()}')"
   ]
  },
  {
   "cell_type": "code",
   "execution_count": 46,
   "id": "7c1d536b",
   "metadata": {
    "scrolled": true
   },
   "outputs": [
    {
     "data": {
      "text/plain": [
       "<AxesSubplot:xlabel='KitchenSquare', ylabel='Density'>"
      ]
     },
     "execution_count": 46,
     "metadata": {},
     "output_type": "execute_result"
    },
    {
     "data": {
      "image/png": "[encoded data removed]",
      "text/plain": [
       "<Figure size 576x432 with 1 Axes>"
      ]
     },
     "metadata": {
      "needs_background": "light"
     },
     "output_type": "display_data"
    }
   ],
   "source": [
    "#ПК визуализация обработанных данных\n",
    "plt.figure(figsize=[8, 6])\n",
    "sns.distplot(tr_df['KitchenSquare'], bins = 8)"
   ]
  },
  {
   "cell_type": "code",
   "execution_count": 47,
   "id": "027c6535",
   "metadata": {},
   "outputs": [
    {
     "name": "stdout",
     "output_type": "stream",
     "text": [
      "Floor_unique: [ 1  2  3  4  5  6  7  8  9 10 11 12 13 14 15 16 17 18 19 20 21 22 23 24\n",
      " 25 26 27 28 31 32 33 37 42]\n"
     ]
    }
   ],
   "source": [
    "#ЭТАЖИ\n",
    "floor_sorted = np.sort(tr_df['Floor'].unique())\n",
    "print(f\"Floor_unique: {floor_sorted}\")"
   ]
  },
  {
   "cell_type": "code",
   "execution_count": 48,
   "id": "5d1b6f81",
   "metadata": {},
   "outputs": [],
   "source": [
    "#ЭТАЖИ создание нового признака\n",
    "tr_df['Floor_cat'] = 0\n",
    "\n",
    "tr_df.loc[tr_df['Floor'] <= 3, 'Floor_cat'] = 1  \n",
    "tr_df.loc[(tr_df['Floor'] > 3) & (tr_df['Floor'] <= 5), 'Floor_cat'] = 2\n",
    "tr_df.loc[(tr_df['Floor'] > 5) & (tr_df['Floor'] <= 9), 'Floor_cat'] = 3\n",
    "tr_df.loc[(tr_df['Floor'] > 9) & (tr_df['Floor'] <= 15), 'Floor_cat'] = 4\n",
    "tr_df.loc[tr_df['Floor'] > 15, 'Floor_cat'] = 5"
   ]
  },
  {
   "cell_type": "code",
   "execution_count": 49,
   "id": "8b425488",
   "metadata": {},
   "outputs": [
    {
     "data": {
      "text/plain": [
       "<AxesSubplot:xlabel='Floor', ylabel='Density'>"
      ]
     },
     "execution_count": 49,
     "metadata": {},
     "output_type": "execute_result"
    },
    {
     "data": {
      "image/png": "[encoded data removed]",
      "text/plain": [
       "<Figure size 576x432 with 1 Axes>"
      ]
     },
     "metadata": {
      "needs_background": "light"
     },
     "output_type": "display_data"
    }
   ],
   "source": [
    "#ЭТАЖИ в обработке не нуждаются, все показатели вполне адекватные, пропусков нет\n",
    "plt.figure(figsize=[8, 6])\n",
    "sns.distplot(tr_df['Floor'], bins=10)"
   ]
  },
  {
   "cell_type": "code",
   "execution_count": 50,
   "id": "b995b591",
   "metadata": {},
   "outputs": [
    {
     "name": "stdout",
     "output_type": "stream",
     "text": [
      "HouseFloor_unique: [  0.   1.   2.   3.   4.   5.   6.   7.   8.   9.  10.  11.  12.  13.\n",
      "  14.  15.  16.  17.  18.  19.  20.  21.  22.  23.  24.  25.  26.  27.\n",
      "  28.  29.  30.  31.  32.  36.  37.  38.  39.  40.  44.  45.  47.  48.\n",
      "  99. 117.]\n"
     ]
    },
    {
     "data": {
      "image/png": "[encoded data removed]",
      "text/plain": [
       "<Figure size 576x432 with 1 Axes>"
      ]
     },
     "metadata": {
      "needs_background": "light"
     },
     "output_type": "display_data"
    }
   ],
   "source": [
    "#ВЫСОТА ДОМА\n",
    "hfloor_sorted = np.sort(tr_df['HouseFloor'].unique())\n",
    "print(f\"HouseFloor_unique: {hfloor_sorted}\")\n",
    "\n",
    "plt.figure(figsize=[8, 6])\n",
    "plt.hist(tr_df['HouseFloor'], bins = 10, log=True)\n",
    "plt.show()"
   ]
  },
  {
   "cell_type": "code",
   "execution_count": 51,
   "id": "3d980c24",
   "metadata": {},
   "outputs": [
    {
     "data": {
      "text/plain": [
       "count    10000.000000\n",
       "mean        12.581800\n",
       "std          6.582586\n",
       "min          0.000000\n",
       "25%          9.000000\n",
       "50%         13.000000\n",
       "75%         17.000000\n",
       "max         48.000000\n",
       "Name: HouseFloor, dtype: float64"
      ]
     },
     "execution_count": 51,
     "metadata": {},
     "output_type": "execute_result"
    }
   ],
   "source": [
    "#ВД пропусков нет, есть выбросы - высота дома не может быть > 48 этажей\n",
    "tr_df.loc[tr_df['HouseFloor'] > 48, 'HouseFloor'] = tr_df['HouseFloor'].median()\n",
    "tr_df['HouseFloor'].describe()"
   ]
  },
  {
   "cell_type": "code",
   "execution_count": 52,
   "id": "de46e09f",
   "metadata": {
    "scrolled": true
   },
   "outputs": [
    {
     "data": {
      "text/plain": [
       "<AxesSubplot:xlabel='HouseFloor', ylabel='Density'>"
      ]
     },
     "execution_count": 52,
     "metadata": {},
     "output_type": "execute_result"
    },
    {
     "data": {
      "image/png": "[encoded data removed]",
      "text/plain": [
       "<Figure size 576x432 with 1 Axes>"
      ]
     },
     "metadata": {
      "needs_background": "light"
     },
     "output_type": "display_data"
    }
   ],
   "source": [
    "#ВД визуализация обработанных данных\n",
    "plt.figure(figsize=[8, 6])\n",
    "sns.distplot(tr_df['HouseFloor'], bins = 7)"
   ]
  },
  {
   "cell_type": "code",
   "execution_count": 21,
   "id": "6240d38d",
   "metadata": {},
   "outputs": [
    {
     "name": "stdout",
     "output_type": "stream",
     "text": [
      "[    1910     1912     1914     1916     1917     1918     1919     1928\n",
      "     1929     1930     1931     1932     1933     1934     1935     1936\n",
      "     1937     1938     1939     1940     1941     1942     1947     1948\n",
      "     1950     1951     1952     1953     1954     1955     1956     1957\n",
      "     1958     1959     1960     1961     1962     1963     1964     1965\n",
      "     1966     1967     1968     1969     1970     1971     1972     1973\n",
      "     1974     1975     1976     1977     1978     1979     1980     1981\n",
      "     1982     1983     1984     1985     1986     1987     1988     1989\n",
      "     1990     1991     1992     1993     1994     1995     1996     1997\n",
      "     1998     1999     2000     2001     2002     2003     2004     2005\n",
      "     2006     2007     2008     2009     2010     2011     2012     2013\n",
      "     2014     2015     2016     2017     2018     2019     2020     4968\n",
      " 20052011]\n"
     ]
    }
   ],
   "source": [
    "#ВОЗРАСТ ДОМА\n",
    "hy_sorted = np.sort(tr_df['HouseYear'].unique())\n",
    "print(hy_sorted)"
   ]
  },
  {
   "cell_type": "code",
   "execution_count": 53,
   "id": "ca8d2d21",
   "metadata": {},
   "outputs": [
    {
     "name": "stdout",
     "output_type": "stream",
     "text": [
      "[1910 1912 1914 1916 1917 1918 1919 1928 1929 1930 1931 1932 1933 1934\n",
      " 1935 1936 1937 1938 1939 1940 1941 1942 1947 1948 1950 1951 1952 1953\n",
      " 1954 1955 1956 1957 1958 1959 1960 1961 1962 1963 1964 1965 1966 1967\n",
      " 1968 1969 1970 1971 1972 1973 1974 1975 1976 1977 1978 1979 1980 1981\n",
      " 1982 1983 1984 1985 1986 1987 1988 1989 1990 1991 1992 1993 1994 1995\n",
      " 1996 1997 1998 1999 2000 2001 2002 2003 2004 2005 2006 2007 2008 2009\n",
      " 2010 2011 2012 2013 2014 2015 2016 2017 2018 2019 2020]\n"
     ]
    }
   ],
   "source": [
    "#ВД работа с выбросами\n",
    "tr_df.loc[tr_df['HouseYear'] > 2020, 'HouseYear'] = 2020\n",
    "\n",
    "hy_sorted_new = np.sort(tr_df['HouseYear'].unique())\n",
    "print(hy_sorted_new)"
   ]
  },
  {
   "cell_type": "code",
   "execution_count": 54,
   "id": "a24ebb9a",
   "metadata": {
    "scrolled": false
   },
   "outputs": [
    {
     "data": {
      "text/html": [
       "<div>\n",
       "<style scoped>\n",
       "    .dataframe tbody tr th:only-of-type {\n",
       "        vertical-align: middle;\n",
       "    }\n",
       "\n",
       "    .dataframe tbody tr th {\n",
       "        vertical-align: top;\n",
       "    }\n",
       "\n",
       "    .dataframe thead th {\n",
       "        text-align: right;\n",
       "    }\n",
       "</style>\n",
       "<table border=\"1\" class=\"dataframe\">\n",
       "  <thead>\n",
       "    <tr style=\"text-align: right;\">\n",
       "      <th></th>\n",
       "      <th>Id</th>\n",
       "      <th>DistrictId</th>\n",
       "      <th>Rooms</th>\n",
       "      <th>Square</th>\n",
       "      <th>LifeSquare</th>\n",
       "      <th>KitchenSquare</th>\n",
       "      <th>Floor</th>\n",
       "      <th>HouseFloor</th>\n",
       "      <th>HouseYear</th>\n",
       "      <th>Ecology_1</th>\n",
       "      <th>...</th>\n",
       "      <th>Social_1</th>\n",
       "      <th>Social_2</th>\n",
       "      <th>Social_3</th>\n",
       "      <th>Healthcare_1</th>\n",
       "      <th>Helthcare_2</th>\n",
       "      <th>Shops_1</th>\n",
       "      <th>Shops_2</th>\n",
       "      <th>Price</th>\n",
       "      <th>Floor_cat</th>\n",
       "      <th>HouseYear_cat</th>\n",
       "    </tr>\n",
       "  </thead>\n",
       "  <tbody>\n",
       "    <tr>\n",
       "      <th>0</th>\n",
       "      <td>11809</td>\n",
       "      <td>27</td>\n",
       "      <td>3.0</td>\n",
       "      <td>52.513310</td>\n",
       "      <td>32.781260</td>\n",
       "      <td>10.0</td>\n",
       "      <td>4</td>\n",
       "      <td>10.0</td>\n",
       "      <td>2014</td>\n",
       "      <td>0.075424</td>\n",
       "      <td>...</td>\n",
       "      <td>11</td>\n",
       "      <td>3097</td>\n",
       "      <td>0</td>\n",
       "      <td>NaN</td>\n",
       "      <td>0</td>\n",
       "      <td>0</td>\n",
       "      <td>B</td>\n",
       "      <td>305018.871089</td>\n",
       "      <td>2</td>\n",
       "      <td>6</td>\n",
       "    </tr>\n",
       "    <tr>\n",
       "      <th>1</th>\n",
       "      <td>3013</td>\n",
       "      <td>22</td>\n",
       "      <td>1.0</td>\n",
       "      <td>39.832524</td>\n",
       "      <td>23.169223</td>\n",
       "      <td>8.0</td>\n",
       "      <td>7</td>\n",
       "      <td>8.0</td>\n",
       "      <td>1966</td>\n",
       "      <td>0.118537</td>\n",
       "      <td>...</td>\n",
       "      <td>30</td>\n",
       "      <td>6207</td>\n",
       "      <td>1</td>\n",
       "      <td>1183.0</td>\n",
       "      <td>1</td>\n",
       "      <td>0</td>\n",
       "      <td>B</td>\n",
       "      <td>177734.553407</td>\n",
       "      <td>3</td>\n",
       "      <td>3</td>\n",
       "    </tr>\n",
       "    <tr>\n",
       "      <th>2</th>\n",
       "      <td>8215</td>\n",
       "      <td>1</td>\n",
       "      <td>3.0</td>\n",
       "      <td>78.342215</td>\n",
       "      <td>47.671972</td>\n",
       "      <td>10.0</td>\n",
       "      <td>2</td>\n",
       "      <td>17.0</td>\n",
       "      <td>1988</td>\n",
       "      <td>0.025609</td>\n",
       "      <td>...</td>\n",
       "      <td>33</td>\n",
       "      <td>5261</td>\n",
       "      <td>0</td>\n",
       "      <td>240.0</td>\n",
       "      <td>3</td>\n",
       "      <td>1</td>\n",
       "      <td>B</td>\n",
       "      <td>282078.720850</td>\n",
       "      <td>1</td>\n",
       "      <td>4</td>\n",
       "    </tr>\n",
       "    <tr>\n",
       "      <th>3</th>\n",
       "      <td>2352</td>\n",
       "      <td>1</td>\n",
       "      <td>1.0</td>\n",
       "      <td>40.409907</td>\n",
       "      <td>32.781260</td>\n",
       "      <td>1.0</td>\n",
       "      <td>10</td>\n",
       "      <td>22.0</td>\n",
       "      <td>1977</td>\n",
       "      <td>0.007122</td>\n",
       "      <td>...</td>\n",
       "      <td>1</td>\n",
       "      <td>264</td>\n",
       "      <td>0</td>\n",
       "      <td>NaN</td>\n",
       "      <td>0</td>\n",
       "      <td>1</td>\n",
       "      <td>B</td>\n",
       "      <td>168106.007630</td>\n",
       "      <td>4</td>\n",
       "      <td>3</td>\n",
       "    </tr>\n",
       "    <tr>\n",
       "      <th>4</th>\n",
       "      <td>13866</td>\n",
       "      <td>94</td>\n",
       "      <td>2.0</td>\n",
       "      <td>64.285067</td>\n",
       "      <td>38.562517</td>\n",
       "      <td>9.0</td>\n",
       "      <td>16</td>\n",
       "      <td>16.0</td>\n",
       "      <td>1972</td>\n",
       "      <td>0.282798</td>\n",
       "      <td>...</td>\n",
       "      <td>33</td>\n",
       "      <td>8667</td>\n",
       "      <td>2</td>\n",
       "      <td>NaN</td>\n",
       "      <td>0</td>\n",
       "      <td>6</td>\n",
       "      <td>B</td>\n",
       "      <td>343995.102962</td>\n",
       "      <td>5</td>\n",
       "      <td>3</td>\n",
       "    </tr>\n",
       "    <tr>\n",
       "      <th>5</th>\n",
       "      <td>5804</td>\n",
       "      <td>99</td>\n",
       "      <td>3.0</td>\n",
       "      <td>62.528465</td>\n",
       "      <td>47.103833</td>\n",
       "      <td>6.0</td>\n",
       "      <td>9</td>\n",
       "      <td>9.0</td>\n",
       "      <td>1972</td>\n",
       "      <td>0.012339</td>\n",
       "      <td>...</td>\n",
       "      <td>35</td>\n",
       "      <td>5776</td>\n",
       "      <td>1</td>\n",
       "      <td>2078.0</td>\n",
       "      <td>2</td>\n",
       "      <td>4</td>\n",
       "      <td>B</td>\n",
       "      <td>161044.944138</td>\n",
       "      <td>3</td>\n",
       "      <td>3</td>\n",
       "    </tr>\n",
       "    <tr>\n",
       "      <th>6</th>\n",
       "      <td>8864</td>\n",
       "      <td>44</td>\n",
       "      <td>1.0</td>\n",
       "      <td>33.938750</td>\n",
       "      <td>21.772930</td>\n",
       "      <td>9.0</td>\n",
       "      <td>1</td>\n",
       "      <td>12.0</td>\n",
       "      <td>1968</td>\n",
       "      <td>0.232205</td>\n",
       "      <td>...</td>\n",
       "      <td>24</td>\n",
       "      <td>4860</td>\n",
       "      <td>1</td>\n",
       "      <td>80.0</td>\n",
       "      <td>0</td>\n",
       "      <td>3</td>\n",
       "      <td>B</td>\n",
       "      <td>142402.739272</td>\n",
       "      <td>1</td>\n",
       "      <td>3</td>\n",
       "    </tr>\n",
       "    <tr>\n",
       "      <th>7</th>\n",
       "      <td>13072</td>\n",
       "      <td>59</td>\n",
       "      <td>2.0</td>\n",
       "      <td>50.391814</td>\n",
       "      <td>32.893256</td>\n",
       "      <td>8.0</td>\n",
       "      <td>8</td>\n",
       "      <td>17.0</td>\n",
       "      <td>1986</td>\n",
       "      <td>0.019509</td>\n",
       "      <td>...</td>\n",
       "      <td>37</td>\n",
       "      <td>7687</td>\n",
       "      <td>11</td>\n",
       "      <td>176.0</td>\n",
       "      <td>5</td>\n",
       "      <td>5</td>\n",
       "      <td>B</td>\n",
       "      <td>326174.175191</td>\n",
       "      <td>3</td>\n",
       "      <td>4</td>\n",
       "    </tr>\n",
       "    <tr>\n",
       "      <th>8</th>\n",
       "      <td>9951</td>\n",
       "      <td>1</td>\n",
       "      <td>1.0</td>\n",
       "      <td>46.887892</td>\n",
       "      <td>44.628132</td>\n",
       "      <td>1.0</td>\n",
       "      <td>12</td>\n",
       "      <td>20.0</td>\n",
       "      <td>1977</td>\n",
       "      <td>0.007122</td>\n",
       "      <td>...</td>\n",
       "      <td>1</td>\n",
       "      <td>264</td>\n",
       "      <td>0</td>\n",
       "      <td>NaN</td>\n",
       "      <td>0</td>\n",
       "      <td>1</td>\n",
       "      <td>B</td>\n",
       "      <td>160400.401732</td>\n",
       "      <td>4</td>\n",
       "      <td>3</td>\n",
       "    </tr>\n",
       "    <tr>\n",
       "      <th>9</th>\n",
       "      <td>8094</td>\n",
       "      <td>6</td>\n",
       "      <td>3.0</td>\n",
       "      <td>79.867477</td>\n",
       "      <td>75.085125</td>\n",
       "      <td>1.0</td>\n",
       "      <td>3</td>\n",
       "      <td>17.0</td>\n",
       "      <td>2014</td>\n",
       "      <td>0.243205</td>\n",
       "      <td>...</td>\n",
       "      <td>5</td>\n",
       "      <td>1564</td>\n",
       "      <td>0</td>\n",
       "      <td>540.0</td>\n",
       "      <td>0</td>\n",
       "      <td>0</td>\n",
       "      <td>B</td>\n",
       "      <td>194756.023945</td>\n",
       "      <td>1</td>\n",
       "      <td>6</td>\n",
       "    </tr>\n",
       "  </tbody>\n",
       "</table>\n",
       "<p>10 rows × 22 columns</p>\n",
       "</div>"
      ],
      "text/plain": [
       "      Id  DistrictId  Rooms     Square  LifeSquare  KitchenSquare  Floor  \\\n",
       "0  11809          27    3.0  52.513310   32.781260           10.0      4   \n",
       "1   3013          22    1.0  39.832524   23.169223            8.0      7   \n",
       "2   8215           1    3.0  78.342215   47.671972           10.0      2   \n",
       "3   2352           1    1.0  40.409907   32.781260            1.0     10   \n",
       "4  13866          94    2.0  64.285067   38.562517            9.0     16   \n",
       "5   5804          99    3.0  62.528465   47.103833            6.0      9   \n",
       "6   8864          44    1.0  33.938750   21.772930            9.0      1   \n",
       "7  13072          59    2.0  50.391814   32.893256            8.0      8   \n",
       "8   9951           1    1.0  46.887892   44.628132            1.0     12   \n",
       "9   8094           6    3.0  79.867477   75.085125            1.0      3   \n",
       "\n",
       "   HouseFloor  HouseYear  Ecology_1  ... Social_1 Social_2  Social_3  \\\n",
       "0        10.0       2014   0.075424  ...       11     3097         0   \n",
       "1         8.0       1966   0.118537  ...       30     6207         1   \n",
       "2        17.0       1988   0.025609  ...       33     5261         0   \n",
       "3        22.0       1977   0.007122  ...        1      264         0   \n",
       "4        16.0       1972   0.282798  ...       33     8667         2   \n",
       "5         9.0       1972   0.012339  ...       35     5776         1   \n",
       "6        12.0       1968   0.232205  ...       24     4860         1   \n",
       "7        17.0       1986   0.019509  ...       37     7687        11   \n",
       "8        20.0       1977   0.007122  ...        1      264         0   \n",
       "9        17.0       2014   0.243205  ...        5     1564         0   \n",
       "\n",
       "   Healthcare_1  Helthcare_2  Shops_1  Shops_2          Price Floor_cat  \\\n",
       "0           NaN            0        0        B  305018.871089         2   \n",
       "1        1183.0            1        0        B  177734.553407         3   \n",
       "2         240.0            3        1        B  282078.720850         1   \n",
       "3           NaN            0        1        B  168106.007630         4   \n",
       "4           NaN            0        6        B  343995.102962         5   \n",
       "5        2078.0            2        4        B  161044.944138         3   \n",
       "6          80.0            0        3        B  142402.739272         1   \n",
       "7         176.0            5        5        B  326174.175191         3   \n",
       "8           NaN            0        1        B  160400.401732         4   \n",
       "9         540.0            0        0        B  194756.023945         1   \n",
       "\n",
       "   HouseYear_cat  \n",
       "0              6  \n",
       "1              3  \n",
       "2              4  \n",
       "3              3  \n",
       "4              3  \n",
       "5              3  \n",
       "6              3  \n",
       "7              4  \n",
       "8              3  \n",
       "9              6  \n",
       "\n",
       "[10 rows x 22 columns]"
      ]
     },
     "execution_count": 54,
     "metadata": {},
     "output_type": "execute_result"
    }
   ],
   "source": [
    "#ВД создание нового признака\n",
    "tr_df['HouseYear_cat'] = 0\n",
    "\n",
    "tr_df.loc[tr_df['HouseYear'] <= 1941, 'HouseYear_cat'] = 1\n",
    "tr_df.loc[(tr_df['HouseYear'] > 1941) & (tr_df['HouseYear'] <= 1945), 'HouseYear_cat'] = 2\n",
    "tr_df.loc[(tr_df['HouseYear'] > 1945) & (tr_df['HouseYear'] <= 1980), 'HouseYear_cat'] = 3\n",
    "tr_df.loc[(tr_df['HouseYear'] > 1980) & (tr_df['HouseYear'] <= 2000), 'HouseYear_cat'] = 4\n",
    "tr_df.loc[(tr_df['HouseYear'] > 2000) & (tr_df['HouseYear'] <= 2010), 'HouseYear_cat'] = 5\n",
    "tr_df.loc[(tr_df['HouseYear'] > 2010), 'HouseYear_cat'] = 6\n",
    "\n",
    "tr_df.head(10)"
   ]
  },
  {
   "cell_type": "code",
   "execution_count": 85,
   "id": "98c04903",
   "metadata": {},
   "outputs": [
    {
     "name": "stdout",
     "output_type": "stream",
     "text": [
      "count    10000.000000\n",
      "mean         0.118858\n",
      "std          0.119025\n",
      "min          0.000000\n",
      "25%          0.017647\n",
      "50%          0.075424\n",
      "75%          0.195781\n",
      "max          0.521867\n",
      "Name: Ecology_1, dtype: float64\n"
     ]
    },
    {
     "data": {
      "image/png": "[encoded data removed]",
      "text/plain": [
       "<Figure size 432x288 with 1 Axes>"
      ]
     },
     "metadata": {
      "needs_background": "light"
     },
     "output_type": "display_data"
    }
   ],
   "source": [
    "#ЭКОЛОГИЯ 1 - пропусков нет, выбросов тоже\n",
    "e1_describe = tr_df['Ecology_1'].describe()\n",
    "print(e1_describe)\n",
    "\n",
    "plt.hist(tr_df['Ecology_1'], bins=10)\n",
    "plt.show()"
   ]
  },
  {
   "cell_type": "code",
   "execution_count": 55,
   "id": "5f42be6b",
   "metadata": {},
   "outputs": [
    {
     "name": "stdout",
     "output_type": "stream",
     "text": [
      "      Ecology_2  Ecology_3  Shops_2\n",
      "0             1          1        1\n",
      "1             1          1        1\n",
      "2             1          1        1\n",
      "3             1          1        1\n",
      "4             1          1        1\n",
      "...         ...        ...      ...\n",
      "9995          1          1        1\n",
      "9996          1          1        0\n",
      "9997          1          1        1\n",
      "9998          1          1        1\n",
      "9999          1          1        1\n",
      "\n",
      "[10000 rows x 3 columns]\n"
     ]
    }
   ],
   "source": [
    "#Преобразуем E2, E3 и S2 в числовые признаки\n",
    "bin_to_num = {'A': 0, 'B': 1}\n",
    "\n",
    "tr_df['Ecology_2'] = tr_df['Ecology_2'].map(bin_to_num)\n",
    "tr_df['Ecology_3'] = tr_df['Ecology_3'].map(bin_to_num)\n",
    "tr_df['Shops_2'] = tr_df['Shops_2'].map(bin_to_num)\n",
    "\n",
    "e2e3s2 = tr_df[[\"Ecology_2\", \"Ecology_3\", \"Shops_2\"]]\n",
    "print(e2e3s2)"
   ]
  },
  {
   "cell_type": "code",
   "execution_count": 84,
   "id": "d1bf8551",
   "metadata": {
    "scrolled": false
   },
   "outputs": [
    {
     "name": "stdout",
     "output_type": "stream",
     "text": [
      "count    10000.000000\n",
      "mean        24.687000\n",
      "std         17.532614\n",
      "min          0.000000\n",
      "25%          6.000000\n",
      "50%         25.000000\n",
      "75%         36.000000\n",
      "max         74.000000\n",
      "Name: Social_1, dtype: float64\n"
     ]
    },
    {
     "data": {
      "image/png": "[encoded data removed]",
      "text/plain": [
       "<Figure size 432x288 with 1 Axes>"
      ]
     },
     "metadata": {
      "needs_background": "light"
     },
     "output_type": "display_data"
    }
   ],
   "source": [
    "#СОЦ_1 - пропусков нет, выбросов тоже\n",
    "soc1_describe = tr_df['Social_1'].describe()\n",
    "print(soc1_describe)\n",
    "\n",
    "plt.hist(tr_df['Social_1'], bins=20)\n",
    "plt.show()"
   ]
  },
  {
   "cell_type": "code",
   "execution_count": 82,
   "id": "643bf3a3",
   "metadata": {
    "scrolled": true
   },
   "outputs": [
    {
     "name": "stdout",
     "output_type": "stream",
     "text": [
      "count    10000.000000\n",
      "mean      5352.157400\n",
      "std       4006.799803\n",
      "min        168.000000\n",
      "25%       1564.000000\n",
      "50%       5285.000000\n",
      "75%       7227.000000\n",
      "max      19083.000000\n",
      "Name: Social_2, dtype: float64\n"
     ]
    },
    {
     "data": {
      "image/png": "[encoded data removed]",
      "text/plain": [
       "<Figure size 432x288 with 1 Axes>"
      ]
     },
     "metadata": {
      "needs_background": "light"
     },
     "output_type": "display_data"
    }
   ],
   "source": [
    "#СОЦ_2 - пропусков нет, выбросов тоже\n",
    "soc2_describe = tr_df['Social_2'].describe()\n",
    "print(soc2_describe)\n",
    "\n",
    "plt.hist(tr_df['Social_2'], bins=20)\n",
    "plt.show()"
   ]
  },
  {
   "cell_type": "code",
   "execution_count": 80,
   "id": "bd607a59",
   "metadata": {},
   "outputs": [
    {
     "name": "stdout",
     "output_type": "stream",
     "text": [
      "count    10000.000000\n",
      "mean         8.039200\n",
      "std         23.831875\n",
      "min          0.000000\n",
      "25%          0.000000\n",
      "50%          2.000000\n",
      "75%          5.000000\n",
      "max        141.000000\n",
      "Name: Social_3, dtype: float64\n"
     ]
    },
    {
     "data": {
      "image/png": "[encoded data removed]",
      "text/plain": [
       "<Figure size 432x288 with 1 Axes>"
      ]
     },
     "metadata": {
      "needs_background": "light"
     },
     "output_type": "display_data"
    }
   ],
   "source": [
    "#СОЦ_3 - пропусков нет, выбросов тоже\n",
    "soc3_describe = tr_df['Social_3'].describe()\n",
    "print(soc3_describe)\n",
    "\n",
    "plt.hist(tr_df['Social_3'], bins=20, log=True)\n",
    "plt.show()"
   ]
  },
  {
   "cell_type": "code",
   "execution_count": 56,
   "id": "11b87b01",
   "metadata": {},
   "outputs": [
    {
     "name": "stdout",
     "output_type": "stream",
     "text": [
      "count    5202.000000\n",
      "mean     1142.904460\n",
      "std      1021.517264\n",
      "min         0.000000\n",
      "25%       350.000000\n",
      "50%       900.000000\n",
      "75%      1548.000000\n",
      "max      4849.000000\n",
      "Name: Healthcare_1, dtype: float64\n"
     ]
    },
    {
     "data": {
      "image/png": "[encoded data removed]",
      "text/plain": [
       "<Figure size 432x288 with 1 Axes>"
      ]
     },
     "metadata": {
      "needs_background": "light"
     },
     "output_type": "display_data"
    }
   ],
   "source": [
    "#ЗДОРОВЬЕ_1\n",
    "h1_describe = tr_df['Healthcare_1'].describe()\n",
    "print(h1_describe)\n",
    "plt.hist(tr_df['Healthcare_1'], bins=10, log=True)\n",
    "plt.show()"
   ]
  },
  {
   "cell_type": "code",
   "execution_count": 57,
   "id": "f99f3ecd",
   "metadata": {
    "scrolled": true
   },
   "outputs": [
    {
     "name": "stdout",
     "output_type": "stream",
     "text": [
      "<class 'pandas.core.series.Series'>\n",
      "RangeIndex: 10000 entries, 0 to 9999\n",
      "Series name: Healthcare_1\n",
      "Non-Null Count  Dtype  \n",
      "--------------  -----  \n",
      "10000 non-null  float64\n",
      "dtypes: float64(1)\n",
      "memory usage: 78.2 KB\n"
     ]
    },
    {
     "data": {
      "image/png": "[encoded data removed]",
      "text/plain": [
       "<Figure size 576x432 with 1 Axes>"
      ]
     },
     "metadata": {
      "needs_background": "light"
     },
     "output_type": "display_data"
    }
   ],
   "source": [
    "#З_1 обработка пропусков, выбросы отсутствуют\n",
    "h1_median = tr_df['Healthcare_1'].median()\n",
    "tr_df['Healthcare_1'] = tr_df['Healthcare_1'].fillna(h1_median)\n",
    "tr_df['Healthcare_1'].info()\n",
    "\n",
    "plt.figure(figsize=[8, 6])\n",
    "sns.distplot(tr_df['Healthcare_1'], bins=10)\n",
    "plt.show()"
   ]
  },
  {
   "cell_type": "code",
   "execution_count": 58,
   "id": "cc9a2571",
   "metadata": {},
   "outputs": [
    {
     "name": "stdout",
     "output_type": "stream",
     "text": [
      "count    10000.000000\n",
      "mean         1.319500\n",
      "std          1.493601\n",
      "min          0.000000\n",
      "25%          0.000000\n",
      "50%          1.000000\n",
      "75%          2.000000\n",
      "max          6.000000\n",
      "Name: Healthcare_2, dtype: float64\n"
     ]
    },
    {
     "data": {
      "image/png": "[encoded data removed]",
      "text/plain": [
       "<Figure size 432x288 with 1 Axes>"
      ]
     },
     "metadata": {
      "needs_background": "light"
     },
     "output_type": "display_data"
    }
   ],
   "source": [
    "#ЗДОРОВЬЕ_2 - выбросы и пропуски отсутствуют, исправление орфографической ошибки\n",
    "tr_df.rename(columns = {'Helthcare_2' : 'Healthcare_2'}, inplace = True)\n",
    "\n",
    "h2_describe = tr_df['Healthcare_2'].describe()\n",
    "print(h2_describe)\n",
    "plt.hist(tr_df['Healthcare_2'], bins=10)\n",
    "plt.show()"
   ]
  },
  {
   "cell_type": "code",
   "execution_count": 86,
   "id": "119b40e5",
   "metadata": {},
   "outputs": [
    {
     "name": "stdout",
     "output_type": "stream",
     "text": [
      "count    10000.000000\n",
      "mean         4.231300\n",
      "std          4.806341\n",
      "min          0.000000\n",
      "25%          1.000000\n",
      "50%          3.000000\n",
      "75%          6.000000\n",
      "max         23.000000\n",
      "Name: Shops_1, dtype: float64\n"
     ]
    },
    {
     "data": {
      "image/png": "[encoded data removed]",
      "text/plain": [
       "<Figure size 432x288 with 1 Axes>"
      ]
     },
     "metadata": {
      "needs_background": "light"
     },
     "output_type": "display_data"
    }
   ],
   "source": [
    "#МАГАЗИНЫ_1 - пропусков нет, выбросов тоже\n",
    "sh1_describe = tr_df['Shops_1'].describe()\n",
    "print(sh1_describe)\n",
    "\n",
    "plt.hist(tr_df['Shops_1'], bins=20)\n",
    "plt.show()"
   ]
  },
  {
   "cell_type": "markdown",
   "id": "e1888676",
   "metadata": {},
   "source": [
    "### Data preprocessing"
   ]
  },
  {
   "cell_type": "code",
   "execution_count": 69,
   "id": "2306a55e",
   "metadata": {},
   "outputs": [],
   "source": [
    "class DataPreprocessing():\n",
    "\n",
    "    def __init__(self):\n",
    "        self.medians = None\n",
    "        self.kitchen_square_quantile = None\n",
    "        \n",
    "    def fit(self, X):       \n",
    "        # Medians and quantiles\n",
    "        self.medians = X.median()\n",
    "        self.square_max_q = X['Square'].quantile(0.975)\n",
    "        self.square_min_q = X['Square'].quantile(0.025)\n",
    "        self.lsquare_max_q = X['LifeSquare'].quantile(0.975)\n",
    "        self.lsquare_min_q = X['LifeSquare'].quantile(0.025)\n",
    "        self.ksquare_max_q = X['KitchenSquare'].quantile(0.975)\n",
    "    \n",
    "    def transform(self, X):\n",
    "        # Rooms\n",
    "        X.loc[(X['Rooms'] > 6) | (X['Rooms'] < 1), 'Rooms'] == self.medians['Rooms']\n",
    "        \n",
    "        #Square\n",
    "        X.loc[(tr_df['Square'] > self.square_max_q) | (tr_df['Square'] < self.square_min_q),\\\n",
    "                  'Square'] = self.medians['Square']\n",
    "        \n",
    "        #LifeSquare\n",
    "        X['LifeSquare'] = X['LifeSquare'].fillna(self.medians['LifeSquare'])\n",
    "        X.loc[(X['LifeSquare'] > self.lsquare_max_q) | (X['LifeSquare'] < self.lsquare_min_q),\\\n",
    "                    'LifeSquare'] = self.medians['LifeSquare']\n",
    "        #KitchenSquare\n",
    "        X.loc[(X['KitchenSquare'] > self.ksquare_max_q, 'KitchenSquare')] = self.medians['KitchenSquare']\n",
    "        \n",
    "        #HouseFloor\n",
    "        X.loc[X['HouseFloor'] > 48, 'HouseFloor'] = self.medians['HouseFloor']\n",
    "        \n",
    "        #HouseYear\n",
    "        X.loc[X['HouseYear'] > 2020, 'HouseYear'] = 2020\n",
    "        \n",
    "        #Healthcare_1\n",
    "        X['Healthcare_1'] = X['Healthcare_1'].fillna(self.medians['Healthcare_1'])\n",
    "        \n",
    "        #Healthcare_2\n",
    "        X.rename(columns = {'Helthcare_2' : 'Healthcare_2'}, inplace = True)\n",
    "        \n",
    "        return X"
   ]
  },
  {
   "cell_type": "markdown",
   "id": "823037ec",
   "metadata": {},
   "source": [
    "### FeatureGenerator"
   ]
  },
  {
   "cell_type": "code",
   "execution_count": 87,
   "id": "2683be96",
   "metadata": {},
   "outputs": [],
   "source": [
    "class FeatureGenerator():\n",
    "    \n",
    "    def __init__(self):\n",
    "        self.bin_to_num = None\n",
    "        \n",
    "    def transform(self, X):\n",
    "        #Floor\n",
    "        X['Floor_cat'] = 0\n",
    "\n",
    "        X.loc[X['Floor'] <= 3, 'Floor_cat'] = 1  \n",
    "        X.loc[(X['Floor'] > 3) & (X['Floor'] <= 5), 'Floor_cat'] = 2\n",
    "        X.loc[(X['Floor'] > 5) & (X['Floor'] <= 9), 'Floor_cat'] = 3\n",
    "        X.loc[(X['Floor'] > 9) & (X['Floor'] <= 15), 'Floor_cat'] = 4\n",
    "        X.loc[X['Floor'] > 15, 'Floor_cat'] = 5\n",
    "        \n",
    "        #HouseYear\n",
    "        tr_df['HouseYear_cat'] = 0\n",
    "\n",
    "        X.loc[X['HouseYear'] <= 1941, 'HouseYear_cat'] = 1\n",
    "        X.loc[(X['HouseYear'] > 1941) & (X['HouseYear'] <= 1945), 'HouseYear_cat'] = 2\n",
    "        X.loc[(X['HouseYear'] > 1945) & (X['HouseYear'] <= 1980), 'HouseYear_cat'] = 3\n",
    "        X.loc[(X['HouseYear'] > 1980) & (X['HouseYear'] <= 2000), 'HouseYear_cat'] = 4\n",
    "        X.loc[(X['HouseYear'] > 2000) & (X['HouseYear'] <= 2010), 'HouseYear_cat'] = 5\n",
    "        X.loc[(X['HouseYear'] > 2010), 'HouseYear_cat'] = 6\n",
    "        \n",
    "        #Ecology_2, Ecology_3, Shops_2\n",
    "        self.bin_to_num = {'A': 0, 'B': 1}\n",
    "        \n",
    "        X['Ecology_2'] = X['Ecology_2'].map(self.bin_to_num)\n",
    "        X['Ecology_3'] = X['Ecology_3'].map(self.bin_to_num)\n",
    "        X['Shops_2'] = X['Shops_2'].map(self.bin_to_num)\n",
    "        \n",
    "        return X"
   ]
  },
  {
   "cell_type": "markdown",
   "id": "d4480710",
   "metadata": {},
   "source": [
    "### Отбор признаков"
   ]
  },
  {
   "cell_type": "code",
   "execution_count": 59,
   "id": "fa09e927",
   "metadata": {
    "scrolled": true
   },
   "outputs": [
    {
     "data": {
      "text/plain": [
       "['Id',\n",
       " 'DistrictId',\n",
       " 'Rooms',\n",
       " 'Square',\n",
       " 'LifeSquare',\n",
       " 'KitchenSquare',\n",
       " 'Floor',\n",
       " 'HouseFloor',\n",
       " 'HouseYear',\n",
       " 'Ecology_1',\n",
       " 'Ecology_2',\n",
       " 'Ecology_3',\n",
       " 'Social_1',\n",
       " 'Social_2',\n",
       " 'Social_3',\n",
       " 'Healthcare_1',\n",
       " 'Healthcare_2',\n",
       " 'Shops_1',\n",
       " 'Shops_2',\n",
       " 'Price',\n",
       " 'Floor_cat',\n",
       " 'HouseYear_cat']"
      ]
     },
     "execution_count": 59,
     "metadata": {},
     "output_type": "execute_result"
    }
   ],
   "source": [
    "tr_df.columns.tolist()"
   ]
  },
  {
   "cell_type": "code",
   "execution_count": 96,
   "id": "f15af036",
   "metadata": {},
   "outputs": [],
   "source": [
    "feature_names = ['DistrictId', 'Rooms', 'Square', 'LifeSquare', 'KitchenSquare', 'Floor', 'HouseFloor', 'HouseYear',\n",
    "                 'Ecology_1', 'Ecology_2', 'Ecology_3', 'Social_1', 'Social_2', 'Social_3',\n",
    "                 'Healthcare_2', 'Shops_1', 'Shops_2']\n",
    "\n",
    "new_feature_names = ['Floor_cat', 'HouseYear_cat']\n",
    "\n",
    "target_name = 'Price'"
   ]
  },
  {
   "cell_type": "markdown",
   "id": "e170f91f",
   "metadata": {},
   "source": [
    "### Разбиение на test и valid + обработка данных"
   ]
  },
  {
   "cell_type": "code",
   "execution_count": 218,
   "id": "e69c3ab1",
   "metadata": {},
   "outputs": [],
   "source": [
    "TRAIN_DATASET_PATH = 'train.csv'\n",
    "TEST_DATASET_PATH = 'test.csv'\n",
    "\n",
    "train_df = pd.read_csv(TRAIN_DATASET_PATH)\n",
    "test_df = pd.read_csv(TEST_DATASET_PATH)\n",
    "\n",
    "X = train_df.drop(columns=target_name)\n",
    "y = train_df[target_name]"
   ]
  },
  {
   "cell_type": "code",
   "execution_count": 219,
   "id": "001a5a43",
   "metadata": {},
   "outputs": [],
   "source": [
    "#Делим train_df на train и valid\n",
    "X_train, X_valid, y_train, y_valid = train_test_split(X, y, test_size=0.33, shuffle=True, random_state=42)"
   ]
  },
  {
   "cell_type": "code",
   "execution_count": 220,
   "id": "cd234933",
   "metadata": {},
   "outputs": [],
   "source": [
    "#Предобработка\n",
    "preprocessor = DataPreprocessing()\n",
    "preprocessor.fit(X_train)\n",
    "\n",
    "X_train = preprocessor.transform(X_train)\n",
    "X_valid = preprocessor.transform(X_valid)\n",
    "test_df = preprocessor.transform(test_df)"
   ]
  },
  {
   "cell_type": "code",
   "execution_count": 221,
   "id": "cb4b82ec",
   "metadata": {},
   "outputs": [],
   "source": [
    "#Генерация новых признаков\n",
    "features_generator = FeatureGenerator()\n",
    "\n",
    "X_train = features_generator.transform(X_train)\n",
    "X_valid = features_generator.transform(X_valid)\n",
    "test_df = features_generator.transform(test_df)"
   ]
  },
  {
   "cell_type": "code",
   "execution_count": 222,
   "id": "b2ed76d8",
   "metadata": {},
   "outputs": [
    {
     "data": {
      "text/html": [
       "<div>\n",
       "<style scoped>\n",
       "    .dataframe tbody tr th:only-of-type {\n",
       "        vertical-align: middle;\n",
       "    }\n",
       "\n",
       "    .dataframe tbody tr th {\n",
       "        vertical-align: top;\n",
       "    }\n",
       "\n",
       "    .dataframe thead th {\n",
       "        text-align: right;\n",
       "    }\n",
       "</style>\n",
       "<table border=\"1\" class=\"dataframe\">\n",
       "  <thead>\n",
       "    <tr style=\"text-align: right;\">\n",
       "      <th></th>\n",
       "      <th>DistrictId</th>\n",
       "      <th>Rooms</th>\n",
       "      <th>Square</th>\n",
       "      <th>LifeSquare</th>\n",
       "      <th>KitchenSquare</th>\n",
       "      <th>Floor</th>\n",
       "      <th>HouseFloor</th>\n",
       "      <th>HouseYear</th>\n",
       "      <th>Ecology_1</th>\n",
       "      <th>Ecology_2</th>\n",
       "      <th>Ecology_3</th>\n",
       "      <th>Social_1</th>\n",
       "      <th>Social_2</th>\n",
       "      <th>Social_3</th>\n",
       "      <th>Healthcare_2</th>\n",
       "      <th>Shops_1</th>\n",
       "      <th>Shops_2</th>\n",
       "      <th>Floor_cat</th>\n",
       "      <th>HouseYear_cat</th>\n",
       "    </tr>\n",
       "  </thead>\n",
       "  <tbody>\n",
       "    <tr>\n",
       "      <th>8371</th>\n",
       "      <td>70</td>\n",
       "      <td>3.0</td>\n",
       "      <td>72.593847</td>\n",
       "      <td>72.032388</td>\n",
       "      <td>7.0</td>\n",
       "      <td>15</td>\n",
       "      <td>16.0</td>\n",
       "      <td>1976</td>\n",
       "      <td>0.002212</td>\n",
       "      <td>1</td>\n",
       "      <td>1</td>\n",
       "      <td>39</td>\n",
       "      <td>7614</td>\n",
       "      <td>3</td>\n",
       "      <td>1</td>\n",
       "      <td>5</td>\n",
       "      <td>0</td>\n",
       "      <td>4</td>\n",
       "      <td>3.0</td>\n",
       "    </tr>\n",
       "    <tr>\n",
       "      <th>5027</th>\n",
       "      <td>24</td>\n",
       "      <td>2.0</td>\n",
       "      <td>38.427761</td>\n",
       "      <td>26.170250</td>\n",
       "      <td>6.0</td>\n",
       "      <td>3</td>\n",
       "      <td>12.0</td>\n",
       "      <td>1969</td>\n",
       "      <td>0.111627</td>\n",
       "      <td>1</td>\n",
       "      <td>1</td>\n",
       "      <td>50</td>\n",
       "      <td>12238</td>\n",
       "      <td>8</td>\n",
       "      <td>2</td>\n",
       "      <td>3</td>\n",
       "      <td>1</td>\n",
       "      <td>1</td>\n",
       "      <td>3.0</td>\n",
       "    </tr>\n",
       "    <tr>\n",
       "      <th>9234</th>\n",
       "      <td>13</td>\n",
       "      <td>2.0</td>\n",
       "      <td>59.198892</td>\n",
       "      <td>35.928225</td>\n",
       "      <td>10.0</td>\n",
       "      <td>7</td>\n",
       "      <td>17.0</td>\n",
       "      <td>1999</td>\n",
       "      <td>0.090799</td>\n",
       "      <td>1</td>\n",
       "      <td>1</td>\n",
       "      <td>74</td>\n",
       "      <td>19083</td>\n",
       "      <td>2</td>\n",
       "      <td>5</td>\n",
       "      <td>15</td>\n",
       "      <td>1</td>\n",
       "      <td>3</td>\n",
       "      <td>4.0</td>\n",
       "    </tr>\n",
       "    <tr>\n",
       "      <th>3944</th>\n",
       "      <td>113</td>\n",
       "      <td>2.0</td>\n",
       "      <td>38.128402</td>\n",
       "      <td>23.055471</td>\n",
       "      <td>6.0</td>\n",
       "      <td>7</td>\n",
       "      <td>14.0</td>\n",
       "      <td>1970</td>\n",
       "      <td>0.050756</td>\n",
       "      <td>1</td>\n",
       "      <td>1</td>\n",
       "      <td>24</td>\n",
       "      <td>5469</td>\n",
       "      <td>1</td>\n",
       "      <td>0</td>\n",
       "      <td>1</td>\n",
       "      <td>1</td>\n",
       "      <td>3</td>\n",
       "      <td>3.0</td>\n",
       "    </tr>\n",
       "    <tr>\n",
       "      <th>6862</th>\n",
       "      <td>27</td>\n",
       "      <td>1.0</td>\n",
       "      <td>40.490421</td>\n",
       "      <td>32.546002</td>\n",
       "      <td>0.0</td>\n",
       "      <td>20</td>\n",
       "      <td>22.0</td>\n",
       "      <td>2019</td>\n",
       "      <td>0.211401</td>\n",
       "      <td>1</td>\n",
       "      <td>1</td>\n",
       "      <td>9</td>\n",
       "      <td>1892</td>\n",
       "      <td>0</td>\n",
       "      <td>0</td>\n",
       "      <td>1</td>\n",
       "      <td>1</td>\n",
       "      <td>5</td>\n",
       "      <td>6.0</td>\n",
       "    </tr>\n",
       "  </tbody>\n",
       "</table>\n",
       "</div>"
      ],
      "text/plain": [
       "      DistrictId  Rooms     Square  LifeSquare  KitchenSquare  Floor  \\\n",
       "8371          70    3.0  72.593847   72.032388            7.0     15   \n",
       "5027          24    2.0  38.427761   26.170250            6.0      3   \n",
       "9234          13    2.0  59.198892   35.928225           10.0      7   \n",
       "3944         113    2.0  38.128402   23.055471            6.0      7   \n",
       "6862          27    1.0  40.490421   32.546002            0.0     20   \n",
       "\n",
       "      HouseFloor  HouseYear  Ecology_1  Ecology_2  Ecology_3  Social_1  \\\n",
       "8371        16.0       1976   0.002212          1          1        39   \n",
       "5027        12.0       1969   0.111627          1          1        50   \n",
       "9234        17.0       1999   0.090799          1          1        74   \n",
       "3944        14.0       1970   0.050756          1          1        24   \n",
       "6862        22.0       2019   0.211401          1          1         9   \n",
       "\n",
       "      Social_2  Social_3  Healthcare_2  Shops_1  Shops_2  Floor_cat  \\\n",
       "8371      7614         3             1        5        0          4   \n",
       "5027     12238         8             2        3        1          1   \n",
       "9234     19083         2             5       15        1          3   \n",
       "3944      5469         1             0        1        1          3   \n",
       "6862      1892         0             0        1        1          5   \n",
       "\n",
       "      HouseYear_cat  \n",
       "8371            3.0  \n",
       "5027            3.0  \n",
       "9234            4.0  \n",
       "3944            3.0  \n",
       "6862            6.0  "
      ]
     },
     "execution_count": 222,
     "metadata": {},
     "output_type": "execute_result"
    }
   ],
   "source": [
    "#Убираем лишние признаки\n",
    "X_train = X_train[feature_names + new_feature_names]\n",
    "X_valid = X_valid[feature_names + new_feature_names]\n",
    "test_df = test_df[feature_names + new_feature_names]\n",
    "X_train.head()"
   ]
  },
  {
   "cell_type": "markdown",
   "id": "69bebf83",
   "metadata": {},
   "source": [
    "### Стандартизация признаков"
   ]
  },
  {
   "cell_type": "code",
   "execution_count": 223,
   "id": "2bc9aca5",
   "metadata": {},
   "outputs": [],
   "source": [
    "#Попробовал стандартизировать данные - избежать переобучения не получилось\n",
    "scaler = StandardScaler()\n",
    "\n",
    "X_train_scaled = scaler.fit_transform(X_train)\n",
    "X_train_scaled = pd.DataFrame(X_train_scaled, columns=feature_names+new_feature_names)\n",
    "\n",
    "X_valid_scaled = scaler.fit_transform(X_valid)\n",
    "X_valid_scaled = pd.DataFrame(X_valid_scaled, columns=feature_names+new_feature_names)"
   ]
  },
  {
   "cell_type": "markdown",
   "id": "fe287567",
   "metadata": {},
   "source": [
    "### Построение модели"
   ]
  },
  {
   "cell_type": "code",
   "execution_count": 239,
   "id": "adfa02b6",
   "metadata": {
    "scrolled": true
   },
   "outputs": [
    {
     "data": {
      "text/html": [
       "<style>#sk-container-id-27 {color: black;background-color: white;}#sk-container-id-27 pre{padding: 0;}#sk-container-id-27 div.sk-toggleable {background-color: white;}#sk-container-id-27 label.sk-toggleable__label {cursor: pointer;display: block;width: 100%;margin-bottom: 0;padding: 0.3em;box-sizing: border-box;text-align: center;}#sk-container-id-27 label.sk-toggleable__label-arrow:before {content: \"▸\";float: left;margin-right: 0.25em;color: #696969;}#sk-container-id-27 label.sk-toggleable__label-arrow:hover:before {color: black;}#sk-container-id-27 div.sk-estimator:hover label.sk-toggleable__label-arrow:before {color: black;}#sk-container-id-27 div.sk-toggleable__content {max-height: 0;max-width: 0;overflow: hidden;text-align: left;background-color: #f0f8ff;}#sk-container-id-27 div.sk-toggleable__content pre {margin: 0.2em;color: black;border-radius: 0.25em;background-color: #f0f8ff;}#sk-container-id-27 input.sk-toggleable__control:checked~div.sk-toggleable__content {max-height: 200px;max-width: 100%;overflow: auto;}#sk-container-id-27 input.sk-toggleable__control:checked~label.sk-toggleable__label-arrow:before {content: \"▾\";}#sk-container-id-27 div.sk-estimator input.sk-toggleable__control:checked~label.sk-toggleable__label {background-color: #d4ebff;}#sk-container-id-27 div.sk-label input.sk-toggleable__control:checked~label.sk-toggleable__label {background-color: #d4ebff;}#sk-container-id-27 input.sk-hidden--visually {border: 0;clip: rect(1px 1px 1px 1px);clip: rect(1px, 1px, 1px, 1px);height: 1px;margin: -1px;overflow: hidden;padding: 0;position: absolute;width: 1px;}#sk-container-id-27 div.sk-estimator {font-family: monospace;background-color: #f0f8ff;border: 1px dotted black;border-radius: 0.25em;box-sizing: border-box;margin-bottom: 0.5em;}#sk-container-id-27 div.sk-estimator:hover {background-color: #d4ebff;}#sk-container-id-27 div.sk-parallel-item::after {content: \"\";width: 100%;border-bottom: 1px solid gray;flex-grow: 1;}#sk-container-id-27 div.sk-label:hover label.sk-toggleable__label {background-color: #d4ebff;}#sk-container-id-27 div.sk-serial::before {content: \"\";position: absolute;border-left: 1px solid gray;box-sizing: border-box;top: 0;bottom: 0;left: 50%;z-index: 0;}#sk-container-id-27 div.sk-serial {display: flex;flex-direction: column;align-items: center;background-color: white;padding-right: 0.2em;padding-left: 0.2em;position: relative;}#sk-container-id-27 div.sk-item {position: relative;z-index: 1;}#sk-container-id-27 div.sk-parallel {display: flex;align-items: stretch;justify-content: center;background-color: white;position: relative;}#sk-container-id-27 div.sk-item::before, #sk-container-id-27 div.sk-parallel-item::before {content: \"\";position: absolute;border-left: 1px solid gray;box-sizing: border-box;top: 0;bottom: 0;left: 50%;z-index: -1;}#sk-container-id-27 div.sk-parallel-item {display: flex;flex-direction: column;z-index: 1;position: relative;background-color: white;}#sk-container-id-27 div.sk-parallel-item:first-child::after {align-self: flex-end;width: 50%;}#sk-container-id-27 div.sk-parallel-item:last-child::after {align-self: flex-start;width: 50%;}#sk-container-id-27 div.sk-parallel-item:only-child::after {width: 0;}#sk-container-id-27 div.sk-dashed-wrapped {border: 1px dashed gray;margin: 0 0.4em 0.5em 0.4em;box-sizing: border-box;padding-bottom: 0.4em;background-color: white;}#sk-container-id-27 div.sk-label label {font-family: monospace;font-weight: bold;display: inline-block;line-height: 1.2em;}#sk-container-id-27 div.sk-label-container {text-align: center;}#sk-container-id-27 div.sk-container {/* jupyter's `normalize.less` sets `[hidden] { display: none; }` but bootstrap.min.css set `[hidden] { display: none !important; }` so we also need the `!important` here to be able to override the default hidden behavior on the sphinx rendered scikit-learn.org. See: https://github.com/scikit-learn/scikit-learn/issues/21755 */display: inline-block !important;position: relative;}#sk-container-id-27 div.sk-text-repr-fallback {display: none;}</style><div id=\"sk-container-id-27\" class=\"sk-top-container\"><div class=\"sk-text-repr-fallback\"><pre>RandomForestRegressor(criterion=&#x27;mse&#x27;, max_depth=17, n_estimators=200,\n",
       "                      random_state=42)</pre><b>In a Jupyter environment, please rerun this cell to show the HTML representation or trust the notebook. <br />On GitHub, the HTML representation is unable to render, please try loading this page with nbviewer.org.</b></div><div class=\"sk-container\" hidden><div class=\"sk-item\"><div class=\"sk-estimator sk-toggleable\"><input class=\"sk-toggleable__control sk-hidden--visually\" id=\"sk-estimator-id-27\" type=\"checkbox\" checked><label for=\"sk-estimator-id-27\" class=\"sk-toggleable__label sk-toggleable__label-arrow\">RandomForestRegressor</label><div class=\"sk-toggleable__content\"><pre>RandomForestRegressor(criterion=&#x27;mse&#x27;, max_depth=17, n_estimators=200,\n",
       "                      random_state=42)</pre></div></div></div></div></div>"
      ],
      "text/plain": [
       "RandomForestRegressor(criterion='mse', max_depth=17, n_estimators=200,\n",
       "                      random_state=42)"
      ]
     },
     "execution_count": 239,
     "metadata": {},
     "output_type": "execute_result"
    }
   ],
   "source": [
    "rf_model = RandomForestRegressor(criterion='mse',\n",
    "                                 max_depth=17,\n",
    "                                 random_state=42,\n",
    "                                 n_estimators=200)\n",
    "rf_model.fit(X_train, y_train)"
   ]
  },
  {
   "cell_type": "code",
   "execution_count": 240,
   "id": "f0bba094",
   "metadata": {},
   "outputs": [],
   "source": [
    "y_train_preds = rf_model.predict(X_train)\n",
    "y_test_preds = rf_model.predict(X_valid)"
   ]
  },
  {
   "cell_type": "code",
   "execution_count": 241,
   "id": "36c8f7c1",
   "metadata": {
    "scrolled": true
   },
   "outputs": [
    {
     "name": "stdout",
     "output_type": "stream",
     "text": [
      "Train R2:\t0.954\n",
      "Test R2:\t0.724\n"
     ]
    },
    {
     "data": {
      "image/png": "[encoded data removed]",
      "text/plain": [
       "<Figure size 1152x720 with 2 Axes>"
      ]
     },
     "metadata": {
      "needs_background": "light"
     },
     "output_type": "display_data"
    }
   ],
   "source": [
    "print(\"Train R2:\\t\" + str(round(r2(y_train, y_train_preds), 3)))\n",
    "print(\"Test R2:\\t\" + str(round(r2(y_valid, y_test_preds), 3)))\n",
    "    \n",
    "plt.figure(figsize=(16,10))\n",
    "    \n",
    "plt.subplot(121)\n",
    "sns.scatterplot(x=y_train_preds, y=y_train)\n",
    "plt.xlabel('Predicted', fontsize = 15)\n",
    "plt.ylabel('True', fontsize = 15)\n",
    "plt.title('Train', fontsize = 25)\n",
    "    \n",
    "plt.subplot(122)\n",
    "sns.scatterplot(x=y_test_preds, y=y_valid)\n",
    "plt.xlabel('Predicted', fontsize = 15)\n",
    "plt.ylabel('True', fontsize = 15)\n",
    "plt.title('Test', fontsize = 25)\n",
    "\n",
    "plt.show()"
   ]
  },
  {
   "cell_type": "markdown",
   "id": "69eb5ae7",
   "metadata": {},
   "source": [
    "### Кросс-валидация"
   ]
  },
  {
   "cell_type": "code",
   "execution_count": 212,
   "id": "fc12ad89",
   "metadata": {},
   "outputs": [
    {
     "data": {
      "text/plain": [
       "array([0.71909847, 0.69631471, 0.72293361])"
      ]
     },
     "execution_count": 212,
     "metadata": {},
     "output_type": "execute_result"
    }
   ],
   "source": [
    "cv_score = cross_val_score(rf_model, X_train, y_train, scoring='r2', cv=KFold(n_splits=3,\\\n",
    "                            shuffle=True, random_state=42))\n",
    "cv_score"
   ]
  },
  {
   "cell_type": "markdown",
   "id": "07c73181",
   "metadata": {},
   "source": [
    "### Важность признаков"
   ]
  },
  {
   "cell_type": "code",
   "execution_count": 209,
   "id": "6e8002f5",
   "metadata": {},
   "outputs": [
    {
     "data": {
      "text/html": [
       "<div>\n",
       "<style scoped>\n",
       "    .dataframe tbody tr th:only-of-type {\n",
       "        vertical-align: middle;\n",
       "    }\n",
       "\n",
       "    .dataframe tbody tr th {\n",
       "        vertical-align: top;\n",
       "    }\n",
       "\n",
       "    .dataframe thead th {\n",
       "        text-align: right;\n",
       "    }\n",
       "</style>\n",
       "<table border=\"1\" class=\"dataframe\">\n",
       "  <thead>\n",
       "    <tr style=\"text-align: right;\">\n",
       "      <th></th>\n",
       "      <th>feature_name</th>\n",
       "      <th>importance</th>\n",
       "    </tr>\n",
       "  </thead>\n",
       "  <tbody>\n",
       "    <tr>\n",
       "      <th>2</th>\n",
       "      <td>Square</td>\n",
       "      <td>0.382047</td>\n",
       "    </tr>\n",
       "    <tr>\n",
       "      <th>11</th>\n",
       "      <td>Social_1</td>\n",
       "      <td>0.116094</td>\n",
       "    </tr>\n",
       "    <tr>\n",
       "      <th>12</th>\n",
       "      <td>Social_2</td>\n",
       "      <td>0.086407</td>\n",
       "    </tr>\n",
       "    <tr>\n",
       "      <th>1</th>\n",
       "      <td>Rooms</td>\n",
       "      <td>0.077025</td>\n",
       "    </tr>\n",
       "    <tr>\n",
       "      <th>13</th>\n",
       "      <td>Social_3</td>\n",
       "      <td>0.062895</td>\n",
       "    </tr>\n",
       "    <tr>\n",
       "      <th>0</th>\n",
       "      <td>DistrictId</td>\n",
       "      <td>0.048132</td>\n",
       "    </tr>\n",
       "    <tr>\n",
       "      <th>8</th>\n",
       "      <td>Ecology_1</td>\n",
       "      <td>0.044926</td>\n",
       "    </tr>\n",
       "    <tr>\n",
       "      <th>7</th>\n",
       "      <td>HouseYear</td>\n",
       "      <td>0.034177</td>\n",
       "    </tr>\n",
       "    <tr>\n",
       "      <th>3</th>\n",
       "      <td>LifeSquare</td>\n",
       "      <td>0.033456</td>\n",
       "    </tr>\n",
       "    <tr>\n",
       "      <th>4</th>\n",
       "      <td>KitchenSquare</td>\n",
       "      <td>0.026349</td>\n",
       "    </tr>\n",
       "    <tr>\n",
       "      <th>6</th>\n",
       "      <td>HouseFloor</td>\n",
       "      <td>0.024996</td>\n",
       "    </tr>\n",
       "    <tr>\n",
       "      <th>5</th>\n",
       "      <td>Floor</td>\n",
       "      <td>0.022725</td>\n",
       "    </tr>\n",
       "    <tr>\n",
       "      <th>15</th>\n",
       "      <td>Shops_1</td>\n",
       "      <td>0.018674</td>\n",
       "    </tr>\n",
       "    <tr>\n",
       "      <th>14</th>\n",
       "      <td>Healthcare_2</td>\n",
       "      <td>0.009372</td>\n",
       "    </tr>\n",
       "    <tr>\n",
       "      <th>17</th>\n",
       "      <td>Floor_cat</td>\n",
       "      <td>0.005804</td>\n",
       "    </tr>\n",
       "    <tr>\n",
       "      <th>18</th>\n",
       "      <td>HouseYear_cat</td>\n",
       "      <td>0.005212</td>\n",
       "    </tr>\n",
       "    <tr>\n",
       "      <th>16</th>\n",
       "      <td>Shops_2</td>\n",
       "      <td>0.000773</td>\n",
       "    </tr>\n",
       "    <tr>\n",
       "      <th>10</th>\n",
       "      <td>Ecology_3</td>\n",
       "      <td>0.000742</td>\n",
       "    </tr>\n",
       "    <tr>\n",
       "      <th>9</th>\n",
       "      <td>Ecology_2</td>\n",
       "      <td>0.000194</td>\n",
       "    </tr>\n",
       "  </tbody>\n",
       "</table>\n",
       "</div>"
      ],
      "text/plain": [
       "     feature_name  importance\n",
       "2          Square    0.382047\n",
       "11       Social_1    0.116094\n",
       "12       Social_2    0.086407\n",
       "1           Rooms    0.077025\n",
       "13       Social_3    0.062895\n",
       "0      DistrictId    0.048132\n",
       "8       Ecology_1    0.044926\n",
       "7       HouseYear    0.034177\n",
       "3      LifeSquare    0.033456\n",
       "4   KitchenSquare    0.026349\n",
       "6      HouseFloor    0.024996\n",
       "5           Floor    0.022725\n",
       "15        Shops_1    0.018674\n",
       "14   Healthcare_2    0.009372\n",
       "17      Floor_cat    0.005804\n",
       "18  HouseYear_cat    0.005212\n",
       "16        Shops_2    0.000773\n",
       "10      Ecology_3    0.000742\n",
       "9       Ecology_2    0.000194"
      ]
     },
     "execution_count": 209,
     "metadata": {},
     "output_type": "execute_result"
    }
   ],
   "source": [
    "feature_importances = pd.DataFrame(zip(X_train.columns, rf_model.feature_importances_), \n",
    "                                   columns=['feature_name', 'importance'])\n",
    "\n",
    "feature_importances.sort_values(by='importance', ascending=False)"
   ]
  }
 ],
 "metadata": {
  "kernelspec": {
   "display_name": "Python 3 (ipykernel)",
   "language": "python",
   "name": "python3"
  },
  "language_info": {
   "codemirror_mode": {
    "name": "ipython",
    "version": 3
   },
   "file_extension": ".py",
   "mimetype": "text/x-python",
   "name": "python",
   "nbconvert_exporter": "python",
   "pygments_lexer": "ipython3",
   "version": "3.10.2"
  }
 },
 "nbformat": 4,
 "nbformat_minor": 5
}
